{
 "cells": [
  {
   "cell_type": "code",
   "execution_count": 23,
   "metadata": {
    "collapsed": true
   },
   "outputs": [],
   "source": [
    "import pandas as pd\n",
    "import numpy as np\n",
    "\n",
    "from sklearn.svm import SVR, LinearSVR\n",
    "from sklearn.grid_search import GridSearchCV\n",
    "from scipy.stats import spearmanr\n",
    "from sklearn.metrics import make_scorer\n",
    "from time import time\n",
    "\n",
    "def simple_spearman(x,y): return np.abs(spearmanr(x,y)[0])\n",
    "spearmanr_scorer = make_scorer(simple_spearman)"
   ]
  },
  {
   "cell_type": "code",
   "execution_count": 19,
   "metadata": {
    "collapsed": false
   },
   "outputs": [
    {
     "data": {
      "text/plain": [
       "(2075, 19)"
      ]
     },
     "execution_count": 19,
     "metadata": {},
     "output_type": "execute_result"
    }
   ],
   "source": [
    "reviews_features = pd.read_csv('data/eletronic_sample_counts.csv.gz')\n",
    "reviews_features = reviews_features[reviews_features.overall==3]\n",
    "reviews_features.shape"
   ]
  },
  {
   "cell_type": "code",
   "execution_count": 20,
   "metadata": {
    "collapsed": false
   },
   "outputs": [
    {
     "data": {
      "text/plain": [
       "Index([u'Unnamed: 0', u'Unnamed: 0.1', u'overall', u'unixReviewTime',\n",
       "       u'helpfulness', u'tot', u'word_count', u'sentence_count',\n",
       "       u'unigram_count', u'adj', u'noun'],\n",
       "      dtype='object')"
      ]
     },
     "execution_count": 20,
     "metadata": {},
     "output_type": "execute_result"
    }
   ],
   "source": [
    "df_columns = reviews_features.select_dtypes(include=['float64','int','int64']).columns\n",
    "df_columns"
   ]
  },
  {
   "cell_type": "markdown",
   "metadata": {},
   "source": [
    "## try LinearSVM: word_count"
   ]
  },
  {
   "cell_type": "code",
   "execution_count": 24,
   "metadata": {
    "collapsed": false
   },
   "outputs": [
    {
     "name": "stdout",
     "output_type": "stream",
     "text": [
      "GridSearchCV took 5.01 seconds for 3 candidates\n"
     ]
    },
    {
     "data": {
      "text/plain": [
       "[mean: 0.41164, std: 0.04278, params: {'epsilon': 0.0001},\n",
       " mean: 0.41164, std: 0.04278, params: {'epsilon': 0.001},\n",
       " mean: 0.41164, std: 0.04278, params: {'epsilon': 0.01}]"
      ]
     },
     "execution_count": 24,
     "metadata": {},
     "output_type": "execute_result"
    }
   ],
   "source": [
    "features = reviews_features[list(['word_count'])].values\n",
    "labels = reviews_features[\"helpfulness\"].values\n",
    "\n",
    "param_grid = [{'epsilon':[10**i for i in range(-4,-1)]},]\n",
    "grid_search = GridSearchCV(LinearSVR(), param_grid=param_grid, scoring=spearmanr_scorer, cv=10, n_jobs=5)\n",
    "start = time()\n",
    "grid_search.fit(features, labels)\n",
    "print(\"GridSearchCV took %.2f seconds for %d candidates\" % (time() - start, len(grid_search.grid_scores_)))\n",
    "grid_search.grid_scores_"
   ]
  },
  {
   "cell_type": "markdown",
   "metadata": {},
   "source": [
    "## try LinearSVM: sentence_count"
   ]
  },
  {
   "cell_type": "code",
   "execution_count": 5,
   "metadata": {
    "collapsed": false
   },
   "outputs": [
    {
     "name": "stdout",
     "output_type": "stream",
     "text": [
      "GridSearchCV took 6.32 seconds for 3 candidates\n"
     ]
    },
    {
     "data": {
      "text/plain": [
       "[mean: 0.37242, std: 0.05953, params: {'epsilon': 0.0001},\n",
       " mean: 0.37242, std: 0.05953, params: {'epsilon': 0.001},\n",
       " mean: 0.37242, std: 0.05953, params: {'epsilon': 0.01}]"
      ]
     },
     "execution_count": 5,
     "metadata": {},
     "output_type": "execute_result"
    }
   ],
   "source": [
    "features = reviews_features[list(['sentence_count'])].values\n",
    "labels = reviews_features[\"helpfulness\"].values\n",
    "\n",
    "param_grid = [{'epsilon':[10**i for i in range(-4,-1)]},]\n",
    "grid_search = GridSearchCV(LinearSVR(), param_grid=param_grid, scoring=spearmanr_scorer, cv=10, n_jobs=5)\n",
    "start = time()\n",
    "grid_search.fit(features, labels)\n",
    "print(\"GridSearchCV took %.2f seconds for %d candidates\" % (time() - start, len(grid_search.grid_scores_)))\n",
    "grid_search.grid_scores_"
   ]
  },
  {
   "cell_type": "markdown",
   "metadata": {},
   "source": [
    "## try LinearSVM: unigram_count"
   ]
  },
  {
   "cell_type": "code",
   "execution_count": 6,
   "metadata": {
    "collapsed": false
   },
   "outputs": [
    {
     "name": "stdout",
     "output_type": "stream",
     "text": [
      "GridSearchCV took 5.18 seconds for 3 candidates\n"
     ]
    },
    {
     "data": {
      "text/plain": [
       "[mean: 0.41163, std: 0.04380, params: {'epsilon': 0.0001},\n",
       " mean: 0.41163, std: 0.04380, params: {'epsilon': 0.001},\n",
       " mean: 0.41163, std: 0.04380, params: {'epsilon': 0.01}]"
      ]
     },
     "execution_count": 6,
     "metadata": {},
     "output_type": "execute_result"
    }
   ],
   "source": [
    "features = reviews_features[list(['unigram_count'])].values\n",
    "labels = reviews_features[\"helpfulness\"].values\n",
    "\n",
    "param_grid = [{'epsilon':[10**i for i in range(-4,-1)]},]\n",
    "grid_search = GridSearchCV(LinearSVR(), param_grid=param_grid, scoring=spearmanr_scorer, cv=10, n_jobs=5)\n",
    "start = time()\n",
    "grid_search.fit(features, labels)\n",
    "print(\"GridSearchCV took %.2f seconds for %d candidates\" % (time() - start, len(grid_search.grid_scores_)))\n",
    "grid_search.grid_scores_"
   ]
  },
  {
   "cell_type": "markdown",
   "metadata": {},
   "source": [
    "## try LinearSVM: adj"
   ]
  },
  {
   "cell_type": "code",
   "execution_count": 7,
   "metadata": {
    "collapsed": false
   },
   "outputs": [
    {
     "name": "stdout",
     "output_type": "stream",
     "text": [
      "GridSearchCV took 5.74 seconds for 3 candidates\n"
     ]
    },
    {
     "data": {
      "text/plain": [
       "[mean: 0.40161, std: 0.03868, params: {'epsilon': 0.0001},\n",
       " mean: 0.40161, std: 0.03868, params: {'epsilon': 0.001},\n",
       " mean: 0.40161, std: 0.03868, params: {'epsilon': 0.01}]"
      ]
     },
     "execution_count": 7,
     "metadata": {},
     "output_type": "execute_result"
    }
   ],
   "source": [
    "features = reviews_features[list(['adj'])].values\n",
    "labels = reviews_features[\"helpfulness\"].values\n",
    "\n",
    "param_grid = [{'epsilon':[10**i for i in range(-4,-1)]},]\n",
    "grid_search = GridSearchCV(LinearSVR(), param_grid=param_grid, scoring=spearmanr_scorer, cv=10, n_jobs=5)\n",
    "start = time()\n",
    "grid_search.fit(features, labels)\n",
    "print(\"GridSearchCV took %.2f seconds for %d candidates\" % (time() - start, len(grid_search.grid_scores_)))\n",
    "grid_search.grid_scores_"
   ]
  },
  {
   "cell_type": "markdown",
   "metadata": {},
   "source": [
    "## try LinearSVM: noun"
   ]
  },
  {
   "cell_type": "code",
   "execution_count": 8,
   "metadata": {
    "collapsed": false
   },
   "outputs": [
    {
     "name": "stdout",
     "output_type": "stream",
     "text": [
      "GridSearchCV took 4.99 seconds for 3 candidates\n"
     ]
    },
    {
     "data": {
      "text/plain": [
       "[mean: 0.40895, std: 0.03813, params: {'epsilon': 0.0001},\n",
       " mean: 0.40895, std: 0.03813, params: {'epsilon': 0.001},\n",
       " mean: 0.40895, std: 0.03813, params: {'epsilon': 0.01}]"
      ]
     },
     "execution_count": 8,
     "metadata": {},
     "output_type": "execute_result"
    }
   ],
   "source": [
    "features = reviews_features[list(['noun'])].values\n",
    "labels = reviews_features[\"helpfulness\"].values\n",
    "\n",
    "param_grid = [{'epsilon':[10**i for i in range(-4,-1)]},]\n",
    "grid_search = GridSearchCV(LinearSVR(), param_grid=param_grid, scoring=spearmanr_scorer, cv=10, n_jobs=5)\n",
    "start = time()\n",
    "grid_search.fit(features, labels)\n",
    "print(\"GridSearchCV took %.2f seconds for %d candidates\" % (time() - start, len(grid_search.grid_scores_)))\n",
    "grid_search.grid_scores_"
   ]
  },
  {
   "cell_type": "markdown",
   "metadata": {},
   "source": [
    "## try LinearSVM: all"
   ]
  },
  {
   "cell_type": "code",
   "execution_count": 9,
   "metadata": {
    "collapsed": false
   },
   "outputs": [
    {
     "name": "stdout",
     "output_type": "stream",
     "text": [
      "Fitting 10 folds for each of 3 candidates, totalling 30 fits\n",
      "[CV] epsilon=0.0001 ..................................................\n",
      "[CV] epsilon=0.0001 ..................................................\n",
      "[CV] epsilon=0.0001 ..................................................\n",
      "[CV] epsilon=0.0001 ..................................................\n",
      "[CV] epsilon=0.0001 ..................................................\n",
      "[CV] ......................... epsilon=0.0001, score=0.217566 -   1.0s\n",
      "[CV] epsilon=0.0001 ..................................................\n",
      "[CV] ......................... epsilon=0.0001, score=0.429599 -   1.1s\n",
      "[CV] ......................... epsilon=0.0001, score=0.307221 -   1.1s\n",
      "[CV] epsilon=0.0001 ..................................................\n",
      "[CV] epsilon=0.0001 ..................................................\n",
      "[CV] ......................... epsilon=0.0001, score=0.367094 -   1.2s\n",
      "[CV] epsilon=0.0001 ..................................................\n",
      "[CV] ......................... epsilon=0.0001, score=0.380737 -   1.3s\n",
      "[CV] epsilon=0.0001 ..................................................\n",
      "[CV] ......................... epsilon=0.0001, score=0.057875 -   1.1s\n",
      "[CV] epsilon=0.001 ...................................................\n",
      "[CV] ......................... epsilon=0.0001, score=0.126012 -   1.2s\n",
      "[CV] epsilon=0.001 ...................................................\n",
      "[CV] ......................... epsilon=0.0001, score=0.058528 -   1.3s\n",
      "[CV] epsilon=0.001 ...................................................\n",
      "[CV] ......................... epsilon=0.0001, score=0.099484 -   1.3s\n",
      "[CV] epsilon=0.001 ...................................................\n",
      "[CV] ......................... epsilon=0.0001, score=0.034500 -   1.3s\n",
      "[CV] epsilon=0.001 ...................................................\n",
      "[CV] .......................... epsilon=0.001, score=0.416033 -   1.0s\n",
      "[CV] epsilon=0.001 ...................................................\n",
      "[CV] .......................... epsilon=0.001, score=0.128965 -   1.0s\n",
      "[CV] epsilon=0.001 ...................................................\n",
      "[CV] .......................... epsilon=0.001, score=0.081517 -   1.1s\n",
      "[CV] epsilon=0.001 ...................................................\n",
      "[CV] .......................... epsilon=0.001, score=0.262206 -   1.0s\n",
      "[CV] epsilon=0.001 ...................................................\n",
      "[CV] .......................... epsilon=0.001, score=0.182520 -   1.3s\n",
      "[CV] epsilon=0.001 ...................................................\n",
      "[CV] .......................... epsilon=0.001, score=0.202905 -   1.2s\n",
      "[CV] epsilon=0.01 ....................................................\n",
      "[CV] .......................... epsilon=0.001, score=0.182191 -   1.3s\n",
      "[CV] epsilon=0.01 ....................................................\n",
      "[CV] .......................... epsilon=0.001, score=0.185993 -   1.1s\n",
      "[CV] .......................... epsilon=0.001, score=0.248891 -   1.0s\n",
      "[CV] epsilon=0.01 ....................................................\n",
      "[CV] epsilon=0.01 ....................................................\n",
      "[CV] .......................... epsilon=0.001, score=0.186900 -   1.1s\n",
      "[CV] epsilon=0.01 ....................................................\n",
      "[CV] ........................... epsilon=0.01, score=0.414452 -   1.0s\n",
      "[CV] epsilon=0.01 ....................................................\n",
      "[CV] ........................... epsilon=0.01, score=0.479155 -   1.0s\n",
      "[CV] ........................... epsilon=0.01, score=0.395538 -   1.2s\n",
      "[CV] epsilon=0.01 ....................................................\n",
      "[CV] epsilon=0.01 ....................................................\n",
      "[CV] ........................... epsilon=0.01, score=0.430770 -   1.1s\n",
      "[CV] epsilon=0.01 ....................................................\n",
      "[CV] ........................... epsilon=0.01, score=0.318170 -   1.3s\n",
      "[CV] epsilon=0.01 ....................................................\n",
      "[CV] ........................... epsilon=0.01, score=0.330613 -   0.9s\n",
      "[CV] ........................... epsilon=0.01, score=0.413930 -   1.2s\n",
      "[CV] ........................... epsilon=0.01, score=0.177461 -   1.1s\n",
      "[CV] ........................... epsilon=0.01, score=0.429360 -   1.3s\n",
      "[CV] ........................... epsilon=0.01, score=0.367157 -   0.8s\n"
     ]
    },
    {
     "name": "stderr",
     "output_type": "stream",
     "text": [
      "[Parallel(n_jobs=5)]: Done  30 out of  30 | elapsed:    7.3s finished\n"
     ]
    },
    {
     "name": "stdout",
     "output_type": "stream",
     "text": [
      "GridSearchCV took 7.86 seconds for 3 candidates\n"
     ]
    },
    {
     "data": {
      "text/plain": [
       "[mean: 0.20818, std: 0.14411, params: {'epsilon': 0.0001},\n",
       " mean: 0.20783, std: 0.08509, params: {'epsilon': 0.001},\n",
       " mean: 0.37574, std: 0.08043, params: {'epsilon': 0.01}]"
      ]
     },
     "execution_count": 9,
     "metadata": {},
     "output_type": "execute_result"
    }
   ],
   "source": [
    "features = reviews_features[list(['word_count','sentence_count','unigram_count','adj','noun'])].values\n",
    "labels = reviews_features[\"helpfulness\"].values\n",
    "\n",
    "param_grid = [{'epsilon':[10**i for i in range(-4,-1)]},]\n",
    "grid_search = GridSearchCV(LinearSVR(), param_grid=param_grid, scoring=spearmanr_scorer, cv=10, n_jobs=5, verbose=3)\n",
    "start = time()\n",
    "grid_search.fit(features, labels)\n",
    "print(\"GridSearchCV took %.2f seconds for %d candidates\" % (time() - start, len(grid_search.grid_scores_)))\n",
    "grid_search.grid_scores_"
   ]
  }
 ],
 "metadata": {
  "kernelspec": {
   "display_name": "Python 2",
   "language": "python",
   "name": "python2"
  },
  "language_info": {
   "codemirror_mode": {
    "name": "ipython",
    "version": 2
   },
   "file_extension": ".py",
   "mimetype": "text/x-python",
   "name": "python",
   "nbconvert_exporter": "python",
   "pygments_lexer": "ipython2",
   "version": "2.7.12"
  }
 },
 "nbformat": 4,
 "nbformat_minor": 1
}
