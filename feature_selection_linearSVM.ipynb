{
 "cells": [
  {
   "cell_type": "code",
   "execution_count": 1,
   "metadata": {
    "collapsed": true
   },
   "outputs": [],
   "source": [
    "import pandas as pd\n",
    "import numpy as np\n",
    "\n",
    "from sklearn.svm import SVR, LinearSVR\n",
    "from sklearn.grid_search import GridSearchCV\n",
    "from scipy.stats import spearmanr\n",
    "from sklearn.metrics import make_scorer\n",
    "from time import time\n",
    "\n",
    "def simple_spearman(x,y): return np.abs(spearmanr(x,y)[0])\n",
    "spearmanr_scorer = make_scorer(simple_spearman)"
   ]
  },
  {
   "cell_type": "code",
   "execution_count": 9,
   "metadata": {
    "collapsed": false
   },
   "outputs": [
    {
     "data": {
      "text/plain": [
       "(19756, 19)"
      ]
     },
     "execution_count": 9,
     "metadata": {},
     "output_type": "execute_result"
    }
   ],
   "source": [
    "reviews_features = pd.read_csv('data/eletronic_sample_counts.csv.gz')\n",
    "reviews_features.shape"
   ]
  },
  {
   "cell_type": "code",
   "execution_count": 10,
   "metadata": {
    "collapsed": false
   },
   "outputs": [
    {
     "data": {
      "text/plain": [
       "Index([u'Unnamed: 0', u'Unnamed: 0.1', u'overall', u'unixReviewTime',\n",
       "       u'helpfulness', u'tot', u'word_count', u'sentence_count',\n",
       "       u'unigram_count', u'adj', u'noun'],\n",
       "      dtype='object')"
      ]
     },
     "execution_count": 10,
     "metadata": {},
     "output_type": "execute_result"
    }
   ],
   "source": [
    "df_columns = reviews_features.select_dtypes(include=['float64','int','int64']).columns\n",
    "df_columns"
   ]
  },
  {
   "cell_type": "markdown",
   "metadata": {},
   "source": [
    "## try LinearSVM: word_count"
   ]
  },
  {
   "cell_type": "code",
   "execution_count": 11,
   "metadata": {
    "collapsed": false
   },
   "outputs": [
    {
     "name": "stdout",
     "output_type": "stream",
     "text": [
      "GridSearchCV took 29.74 seconds for 3 candidates\n"
     ]
    },
    {
     "data": {
      "text/plain": [
       "[mean: 0.37010, std: 0.03261, params: {'epsilon': 0.0001},\n",
       " mean: 0.37010, std: 0.03261, params: {'epsilon': 0.001},\n",
       " mean: 0.37010, std: 0.03261, params: {'epsilon': 0.01}]"
      ]
     },
     "execution_count": 11,
     "metadata": {},
     "output_type": "execute_result"
    }
   ],
   "source": [
    "features = reviews_features[list(['word_count'])].values\n",
    "labels = reviews_features[\"helpfulness\"].values\n",
    "\n",
    "param_grid = [{'epsilon':[10**i for i in range(-4,-1)]},]\n",
    "grid_search = GridSearchCV(LinearSVR(), param_grid=param_grid, scoring=spearmanr_scorer, cv=5, n_jobs=5)\n",
    "start = time()\n",
    "grid_search.fit(features, labels)\n",
    "print(\"GridSearchCV took %.2f seconds for %d candidates\" % (time() - start, len(grid_search.grid_scores_)))\n",
    "grid_search.grid_scores_"
   ]
  },
  {
   "cell_type": "markdown",
   "metadata": {},
   "source": [
    "## try LinearSVM: sentence_count"
   ]
  },
  {
   "cell_type": "code",
   "execution_count": 12,
   "metadata": {
    "collapsed": false
   },
   "outputs": [
    {
     "name": "stdout",
     "output_type": "stream",
     "text": [
      "GridSearchCV took 27.24 seconds for 3 candidates\n"
     ]
    },
    {
     "data": {
      "text/plain": [
       "[mean: 0.34157, std: 0.03231, params: {'epsilon': 0.0001},\n",
       " mean: 0.34157, std: 0.03231, params: {'epsilon': 0.001},\n",
       " mean: 0.34157, std: 0.03231, params: {'epsilon': 0.01}]"
      ]
     },
     "execution_count": 12,
     "metadata": {},
     "output_type": "execute_result"
    }
   ],
   "source": [
    "features = reviews_features[list(['sentence_count'])].values\n",
    "labels = reviews_features[\"helpfulness\"].values\n",
    "\n",
    "param_grid = [{'epsilon':[10**i for i in range(-4,-1)]},]\n",
    "grid_search = GridSearchCV(LinearSVR(), param_grid=param_grid, scoring=spearmanr_scorer, cv=5, n_jobs=5)\n",
    "start = time()\n",
    "grid_search.fit(features, labels)\n",
    "print(\"GridSearchCV took %.2f seconds for %d candidates\" % (time() - start, len(grid_search.grid_scores_)))\n",
    "grid_search.grid_scores_"
   ]
  },
  {
   "cell_type": "markdown",
   "metadata": {},
   "source": [
    "## try LinearSVM: unigram_count"
   ]
  },
  {
   "cell_type": "code",
   "execution_count": 13,
   "metadata": {
    "collapsed": false
   },
   "outputs": [
    {
     "name": "stdout",
     "output_type": "stream",
     "text": [
      "GridSearchCV took 28.20 seconds for 3 candidates\n"
     ]
    },
    {
     "data": {
      "text/plain": [
       "[mean: 0.37295, std: 0.03276, params: {'epsilon': 0.0001},\n",
       " mean: 0.37295, std: 0.03276, params: {'epsilon': 0.001},\n",
       " mean: 0.37295, std: 0.03276, params: {'epsilon': 0.01}]"
      ]
     },
     "execution_count": 13,
     "metadata": {},
     "output_type": "execute_result"
    }
   ],
   "source": [
    "features = reviews_features[list(['unigram_count'])].values\n",
    "labels = reviews_features[\"helpfulness\"].values\n",
    "\n",
    "param_grid = [{'epsilon':[10**i for i in range(-4,-1)]},]\n",
    "grid_search = GridSearchCV(LinearSVR(), param_grid=param_grid, scoring=spearmanr_scorer, cv=5, n_jobs=5)\n",
    "start = time()\n",
    "grid_search.fit(features, labels)\n",
    "print(\"GridSearchCV took %.2f seconds for %d candidates\" % (time() - start, len(grid_search.grid_scores_)))\n",
    "grid_search.grid_scores_"
   ]
  },
  {
   "cell_type": "markdown",
   "metadata": {},
   "source": [
    "## try LinearSVM: adj"
   ]
  },
  {
   "cell_type": "code",
   "execution_count": 14,
   "metadata": {
    "collapsed": false
   },
   "outputs": [
    {
     "name": "stdout",
     "output_type": "stream",
     "text": [
      "GridSearchCV took 29.67 seconds for 3 candidates\n"
     ]
    },
    {
     "data": {
      "text/plain": [
       "[mean: 0.38692, std: 0.03720, params: {'epsilon': 0.0001},\n",
       " mean: 0.38692, std: 0.03720, params: {'epsilon': 0.001},\n",
       " mean: 0.38692, std: 0.03720, params: {'epsilon': 0.01}]"
      ]
     },
     "execution_count": 14,
     "metadata": {},
     "output_type": "execute_result"
    }
   ],
   "source": [
    "features = reviews_features[list(['adj'])].values\n",
    "labels = reviews_features[\"helpfulness\"].values\n",
    "\n",
    "param_grid = [{'epsilon':[10**i for i in range(-4,-1)]},]\n",
    "grid_search = GridSearchCV(LinearSVR(), param_grid=param_grid, scoring=spearmanr_scorer, cv=5, n_jobs=5)\n",
    "start = time()\n",
    "grid_search.fit(features, labels)\n",
    "print(\"GridSearchCV took %.2f seconds for %d candidates\" % (time() - start, len(grid_search.grid_scores_)))\n",
    "grid_search.grid_scores_"
   ]
  },
  {
   "cell_type": "markdown",
   "metadata": {},
   "source": [
    "## try LinearSVM: noun"
   ]
  },
  {
   "cell_type": "code",
   "execution_count": 15,
   "metadata": {
    "collapsed": false
   },
   "outputs": [
    {
     "name": "stdout",
     "output_type": "stream",
     "text": [
      "GridSearchCV took 28.70 seconds for 3 candidates\n"
     ]
    },
    {
     "data": {
      "text/plain": [
       "[mean: 0.36956, std: 0.03443, params: {'epsilon': 0.0001},\n",
       " mean: 0.36956, std: 0.03443, params: {'epsilon': 0.001},\n",
       " mean: 0.36956, std: 0.03443, params: {'epsilon': 0.01}]"
      ]
     },
     "execution_count": 15,
     "metadata": {},
     "output_type": "execute_result"
    }
   ],
   "source": [
    "features = reviews_features[list(['noun'])].values\n",
    "labels = reviews_features[\"helpfulness\"].values\n",
    "\n",
    "param_grid = [{'epsilon':[10**i for i in range(-4,-1)]},]\n",
    "grid_search = GridSearchCV(LinearSVR(), param_grid=param_grid, scoring=spearmanr_scorer, cv=5, n_jobs=5)\n",
    "start = time()\n",
    "grid_search.fit(features, labels)\n",
    "print(\"GridSearchCV took %.2f seconds for %d candidates\" % (time() - start, len(grid_search.grid_scores_)))\n",
    "grid_search.grid_scores_"
   ]
  },
  {
   "cell_type": "markdown",
   "metadata": {},
   "source": [
    "## try LinearSVM: all"
   ]
  },
  {
   "cell_type": "code",
   "execution_count": 16,
   "metadata": {
    "collapsed": false
   },
   "outputs": [
    {
     "name": "stdout",
     "output_type": "stream",
     "text": [
      "Fitting 5 folds for each of 3 candidates, totalling 15 fits\n",
      "[CV] epsilon=0.0001 ..................................................\n",
      "[CV] epsilon=0.0001 ..................................................\n",
      "[CV] epsilon=0.0001 ..................................................\n",
      "[CV] epsilon=0.0001 ..................................................\n",
      "[CV] epsilon=0.0001 ..................................................\n",
      "[CV] ......................... epsilon=0.0001, score=0.392014 -  12.9s\n",
      "[CV] epsilon=0.001 ...................................................\n",
      "[CV] ......................... epsilon=0.0001, score=0.197241 -  13.4s\n",
      "[CV] epsilon=0.001 ...................................................\n",
      "[CV] ......................... epsilon=0.0001, score=0.402102 -  13.8s\n",
      "[CV] epsilon=0.001 ...................................................\n",
      "[CV] ......................... epsilon=0.0001, score=0.369468 -  14.0s\n",
      "[CV] epsilon=0.001 ...................................................\n",
      "[CV] ......................... epsilon=0.0001, score=0.345710 -  14.6s\n",
      "[CV] epsilon=0.001 ...................................................\n",
      "[CV] .......................... epsilon=0.001, score=0.001789 -  15.1s\n",
      "[CV] epsilon=0.01 ....................................................\n",
      "[CV] .......................... epsilon=0.001, score=0.407354 -  14.8s\n",
      "[CV] epsilon=0.01 ....................................................\n",
      "[CV] .......................... epsilon=0.001, score=0.362103 -  14.3s\n",
      "[CV] epsilon=0.01 ....................................................\n",
      "[CV] .......................... epsilon=0.001, score=0.324386 -  14.1s\n",
      "[CV] epsilon=0.01 ....................................................\n",
      "[CV] .......................... epsilon=0.001, score=0.432752 -  15.1s\n",
      "[CV] epsilon=0.01 ....................................................\n",
      "[CV] ........................... epsilon=0.01, score=0.310076 -  11.1s\n",
      "[CV] ........................... epsilon=0.01, score=0.354220 -  11.3s\n",
      "[CV] ........................... epsilon=0.01, score=0.316147 -  12.1s\n",
      "[CV] ........................... epsilon=0.01, score=0.311569 -  11.9s\n",
      "[CV] ........................... epsilon=0.01, score=0.369074 -  11.3s\n"
     ]
    },
    {
     "name": "stderr",
     "output_type": "stream",
     "text": [
      "[Parallel(n_jobs=5)]: Done  15 out of  15 | elapsed:   40.5s finished\n"
     ]
    },
    {
     "name": "stdout",
     "output_type": "stream",
     "text": [
      "GridSearchCV took 44.51 seconds for 3 candidates\n"
     ]
    },
    {
     "data": {
      "text/plain": [
       "[mean: 0.34130, std: 0.07461, params: {'epsilon': 0.0001},\n",
       " mean: 0.30566, std: 0.15644, params: {'epsilon': 0.001},\n",
       " mean: 0.33222, std: 0.02457, params: {'epsilon': 0.01}]"
      ]
     },
     "execution_count": 16,
     "metadata": {},
     "output_type": "execute_result"
    }
   ],
   "source": [
    "features = reviews_features[list(['word_count','sentence_count','unigram_count','adj','noun'])].values\n",
    "labels = reviews_features[\"helpfulness\"].values\n",
    "\n",
    "param_grid = [{'epsilon':[10**i for i in range(-4,-1)]},]\n",
    "grid_search = GridSearchCV(LinearSVR(), param_grid=param_grid, scoring=spearmanr_scorer, cv=5, n_jobs=5, verbose=3)\n",
    "start = time()\n",
    "grid_search.fit(features, labels)\n",
    "print(\"GridSearchCV took %.2f seconds for %d candidates\" % (time() - start, len(grid_search.grid_scores_)))\n",
    "grid_search.grid_scores_"
   ]
  }
 ],
 "metadata": {
  "kernelspec": {
   "display_name": "Python 2",
   "language": "python",
   "name": "python2"
  },
  "language_info": {
   "codemirror_mode": {
    "name": "ipython",
    "version": 2
   },
   "file_extension": ".py",
   "mimetype": "text/x-python",
   "name": "python",
   "nbconvert_exporter": "python",
   "pygments_lexer": "ipython2",
   "version": "2.7.12"
  }
 },
 "nbformat": 4,
 "nbformat_minor": 1
}
