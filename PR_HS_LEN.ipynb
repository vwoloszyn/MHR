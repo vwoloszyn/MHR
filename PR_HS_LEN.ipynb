{
 "cells": [
  {
   "cell_type": "markdown",
   "metadata": {},
   "source": [
    "## An unsupervised approach to rank product reviews\n",
    "### Jianwei Wu ; Bing Xu ; Sheng Li ; 2011"
   ]
  },
  {
   "cell_type": "code",
   "execution_count": 11,
   "metadata": {
    "collapsed": true
   },
   "outputs": [],
   "source": [
    "import nltk\n",
    "import pandas as pd\n",
    "import numpy as np\n",
    "import MHR as mhr\n",
    "import networkx as nx\n",
    "from nltk import word_tokenize"
   ]
  },
  {
   "cell_type": "code",
   "execution_count": 12,
   "metadata": {
    "collapsed": false
   },
   "outputs": [
    {
     "data": {
      "text/plain": [
       "(19756, 30)"
      ]
     },
     "execution_count": 12,
     "metadata": {},
     "output_type": "execute_result"
    }
   ],
   "source": [
    "def zeroFun(x): return 0\n",
    "dfProducts = pd.read_csv('data/eletronic_sample_counts.csv.gz')\n",
    "dfProducts['pageRank']=dfProducts.apply(zeroFun,axis=1)\n",
    "dfProducts['hits']=dfProducts.apply(zeroFun,axis=1)\n",
    "dfProducts.shape"
   ]
  },
  {
   "cell_type": "code",
   "execution_count": 13,
   "metadata": {
    "collapsed": false
   },
   "outputs": [],
   "source": [
    "def compute_tags(sentence):\n",
    "    tags = []\n",
    "    for token in nltk.pos_tag(nltk.word_tokenize(sentence.lower()), tagset = \"universal\"):\n",
    "        if (token[1] in ['NOUN','VERB','ADJ']):\n",
    "            tags.append(token[0])\n",
    "    return tags\n",
    "\n",
    "def compute_sentence(sentence1, sentence2):\n",
    "    return (len(set(sentence1).intersection(sentence2)) > 0)\n",
    "\n",
    "def compute_sentences_graph(sentences):\n",
    "    sentences_count = len(sentences)\n",
    "    matrix = np.zeros((sentences_count,sentences_count))\n",
    "\n",
    "    for row in range(sentences_count):\n",
    "        for col in range(sentences_count):\n",
    "            matrix[row, col] = compute_sentence(sentences[row],sentences[col])\n",
    "\n",
    "    return matrix"
   ]
  },
  {
   "cell_type": "code",
   "execution_count": 14,
   "metadata": {
    "collapsed": false,
    "scrolled": true
   },
   "outputs": [
    {
     "name": "stdout",
     "output_type": "stream",
     "text": [
      "Run 1 size 40 for 383\n",
      "computing\n",
      "product=1400532655 ndcg=0.877750740057 (0.877750740057)\n",
      "Run 3 size 33 for 383\n",
      "computing\n",
      "product=B00000J061 ndcg=0.91824167245 (0.91824167245)\n",
      "Run 5 size 31 for 383\n",
      "computing\n",
      "product=B00001P4ZH ndcg=0.920164849108 (0.920164849108)\n"
     ]
    }
   ],
   "source": [
    "import time\n",
    "\n",
    "# run your code\n",
    "\n",
    "\n",
    "min_comments=30\n",
    "min_votes=5\n",
    "\n",
    "grouped=dfProducts[dfProducts['tot'].astype(int)>min_votes].groupby('asin')\n",
    "total = len(grouped)\n",
    "run = 1\n",
    "performance=[]\n",
    "for name, group in grouped:\n",
    "\n",
    "    dffiltro = (dfProducts['asin']==name) & (dfProducts['tot'].astype(int)>min_votes)\n",
    "    comments_count = dfProducts[dffiltro ]['tot'].values\n",
    "    \n",
    "    print(\"Run %d size %d for %d\" % (run, len(comments_count), total))\n",
    "    \n",
    "    if ( (len(comments_count)>min_comments) ):\n",
    "        \n",
    "        start = time.time()\n",
    "        \n",
    "        sentences=[]\n",
    "        \n",
    "        print \"computing\"\n",
    "        \n",
    "        for t in dfProducts[dffiltro].T.to_dict().values():\n",
    "            for s in nltk.sent_tokenize(t['reviewText']):\n",
    "                sentences.append(compute_tags(s))   \n",
    "                \n",
    "        sentences_graph = compute_sentences_graph(sentences)\n",
    "        nx_graph = nx.from_numpy_matrix(sentences_graph)\n",
    "        pg_sentences = nx.pagerank_numpy(nx_graph)\n",
    "        hits_sentences = nx.hits_numpy(nx_graph)\n",
    "\n",
    "        count=0\n",
    "        for t in dfProducts[dffiltro].T.to_dict().values():\n",
    "            for s in nltk.sent_tokenize(t['reviewText']):\n",
    "                #print t.values()\n",
    "                dfProducts.loc[t.values()[0],'pageRank'] += float(pg_sentences[count])\n",
    "                dfProducts.loc[t.values()[0],'hits'] += float(hits_sentences[1][count]) #authority score\n",
    "                count += 1\n",
    "\n",
    "            #break\n",
    "        #break\n",
    "        run += 1\n",
    "        end = time.time()\n",
    "        elapsed_phl = end - start\n",
    "            \n",
    "        df = dfProducts[dffiltro]\n",
    "        start = time.time()\n",
    "        df,ndcg_mhr = mhr.executeFromDf(df )\n",
    "        end = time.time()\n",
    "        elapsed_mhr = (end - start) #+ elapsed\n",
    "        \n",
    "        tempo={}\n",
    "        tempo['product']=name\n",
    "        tempo['tot_comments']=len(comments_count)\n",
    "        tempo['elapsed_phl']=elapsed_phl\n",
    "        tempo['elapsed_mhr']=elapsed_mhr\n",
    "        performance.append(tempo)\n",
    "        \n",
    "        if run > 5:\n",
    "            break\n",
    "        run = run+1\n",
    "    \n",
    "pd.DataFrame(performance).to_csv('data/performance_PR_HS_LEN2.csv.gz', compression='gzip')"
   ]
  },
  {
   "cell_type": "code",
   "execution_count": 17,
   "metadata": {
    "collapsed": false
   },
   "outputs": [
    {
     "data": {
      "text/html": [
       "<div>\n",
       "<table border=\"1\" class=\"dataframe\">\n",
       "  <thead>\n",
       "    <tr style=\"text-align: right;\">\n",
       "      <th></th>\n",
       "      <th>elapsed_mhr</th>\n",
       "      <th>elapsed_phl</th>\n",
       "      <th>product</th>\n",
       "      <th>tot_comments</th>\n",
       "    </tr>\n",
       "  </thead>\n",
       "  <tbody>\n",
       "    <tr>\n",
       "      <th>0</th>\n",
       "      <td>2.531230</td>\n",
       "      <td>99.641754</td>\n",
       "      <td>1400532655</td>\n",
       "      <td>40</td>\n",
       "    </tr>\n",
       "    <tr>\n",
       "      <th>1</th>\n",
       "      <td>0.312215</td>\n",
       "      <td>48.997984</td>\n",
       "      <td>B00000J061</td>\n",
       "      <td>33</td>\n",
       "    </tr>\n",
       "    <tr>\n",
       "      <th>2</th>\n",
       "      <td>0.293213</td>\n",
       "      <td>40.551298</td>\n",
       "      <td>B00001P4ZH</td>\n",
       "      <td>31</td>\n",
       "    </tr>\n",
       "  </tbody>\n",
       "</table>\n",
       "</div>"
      ],
      "text/plain": [
       "   elapsed_mhr  elapsed_phl     product  tot_comments\n",
       "0     2.531230    99.641754  1400532655            40\n",
       "1     0.312215    48.997984  B00000J061            33\n",
       "2     0.293213    40.551298  B00001P4ZH            31"
      ]
     },
     "execution_count": 17,
     "metadata": {},
     "output_type": "execute_result"
    }
   ],
   "source": [
    "pd.DataFrame(performance)"
   ]
  },
  {
   "cell_type": "code",
   "execution_count": 16,
   "metadata": {
    "collapsed": true
   },
   "outputs": [],
   "source": [
    "#dfProducts.to_csv('data/eletronic_sample_counts.csv.gz', compression='gzip')"
   ]
  }
 ],
 "metadata": {
  "kernelspec": {
   "display_name": "Python 2",
   "language": "python",
   "name": "python2"
  },
  "language_info": {
   "codemirror_mode": {
    "name": "ipython",
    "version": 2
   },
   "file_extension": ".py",
   "mimetype": "text/x-python",
   "name": "python",
   "nbconvert_exporter": "python",
   "pygments_lexer": "ipython2",
   "version": "2.7.12"
  }
 },
 "nbformat": 4,
 "nbformat_minor": 1
}
