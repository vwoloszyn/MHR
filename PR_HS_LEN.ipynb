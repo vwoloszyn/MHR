{
 "cells": [
  {
   "cell_type": "markdown",
   "metadata": {},
   "source": [
    "## An unsupervised approach to rank product reviews\n",
    "### Jianwei Wu ; Bing Xu ; Sheng Li ; 2011"
   ]
  },
  {
   "cell_type": "code",
   "execution_count": 1,
   "metadata": {
    "collapsed": true
   },
   "outputs": [],
   "source": [
    "import nltk\n",
    "import pandas as pd\n",
    "import numpy as np\n",
    "import MHR as mhr\n",
    "import networkx as nx"
   ]
  },
  {
   "cell_type": "code",
   "execution_count": 2,
   "metadata": {
    "collapsed": false
   },
   "outputs": [
    {
     "data": {
      "text/plain": [
       "(2075, 20)"
      ]
     },
     "execution_count": 2,
     "metadata": {},
     "output_type": "execute_result"
    }
   ],
   "source": [
    "def zeroFun(x): return 0\n",
    "dfProducts = pd.read_csv('data/eletronic_sample_counts.csv.gz')\n",
    "dfProducts = dfProducts[dfProducts.overall==3]\n",
    "dfProducts['pageRank']=dfProducts.apply(zeroFun,axis=1)\n",
    "dfProducts.shape"
   ]
  },
  {
   "cell_type": "code",
   "execution_count": 3,
   "metadata": {
    "collapsed": false
   },
   "outputs": [],
   "source": [
    "def compute_sentence(sentence1, sentence2):\n",
    "    tags1 = []\n",
    "    tags2 = []\n",
    "    \n",
    "    for token in nltk.pos_tag(nltk.word_tokenize(sentence1.lower()), tagset = \"universal\"):\n",
    "        if (token[1] in ['NOUN','VERB','ADJ']):\n",
    "            tags1.append(token[0])\n",
    "            \n",
    "    for token in nltk.pos_tag(nltk.word_tokenize(sentence2.lower()), tagset = \"universal\"):\n",
    "        if (token[1] in ['NOUN','VERB','ADJ']):\n",
    "            tags2.append(token[0])\n",
    "    \n",
    "    return (len(set(tags1).intersection(tags2)) > 0)\n",
    "\n",
    "def compute_sentences_graph(sentences):\n",
    "    sentences_count = len(sentences)\n",
    "    matrix = np.zeros((sentences_count,sentences_count))\n",
    "\n",
    "    for row in range(sentences_count):\n",
    "        for col in range(sentences_count):\n",
    "            matrix[row, col] = compute_sentence(sentences[row],sentences[col])\n",
    "\n",
    "    return matrix"
   ]
  },
  {
   "cell_type": "code",
   "execution_count": null,
   "metadata": {
    "collapsed": false
   },
   "outputs": [],
   "source": [
    "min_comments=30\n",
    "min_votes=5\n",
    "\n",
    "grouped=dfProducts[dfProducts['tot'].astype(int)>min_votes].groupby('asin')\n",
    "for name, group in grouped:\n",
    "    \n",
    "    dffiltro = (dfProducts['asin']==name) & (dfProducts['tot'].astype(int)>min_votes)\n",
    "    comments_count = dfProducts[dffiltro ]['tot'].values\n",
    "    \n",
    "    if ( (len(comments_count)>min_comments) ):\n",
    "        sentences=[]\n",
    "        \n",
    "        for t in dfProducts[dffiltro].T.to_dict().values():\n",
    "            for s in nltk.sent_tokenize(t['reviewText']):\n",
    "                sentences.append(s)   \n",
    "                \n",
    "        sentences_graph = compute_sentences_graph(sentences)\n",
    "        nx_graph = nx.from_numpy_matrix(sentences_graph)\n",
    "        pg_sentences = nx.pagerank_numpy(nx_graph)\n",
    "\n",
    "        count=0\n",
    "        for t in dfProducts[dffiltro].T.to_dict().values():\n",
    "            for s in nltk.sent_tokenize(t['reviewText']):\n",
    "                dfProducts.loc[dfProducts.reviewerID==t['reviewerID'],'pageRank'] += float(pg_sentences[count])\n",
    "                count += 1\n",
    "\n",
    "        break"
   ]
  },
  {
   "cell_type": "code",
   "execution_count": null,
   "metadata": {
    "collapsed": false
   },
   "outputs": [],
   "source": [
    "dfProducts[dfProducts.pageRank>0]"
   ]
  },
  {
   "cell_type": "code",
   "execution_count": null,
   "metadata": {
    "collapsed": true
   },
   "outputs": [],
   "source": []
  }
 ],
 "metadata": {
  "kernelspec": {
   "display_name": "Python 2",
   "language": "python",
   "name": "python2"
  },
  "language_info": {
   "codemirror_mode": {
    "name": "ipython",
    "version": 2
   },
   "file_extension": ".py",
   "mimetype": "text/x-python",
   "name": "python",
   "nbconvert_exporter": "python",
   "pygments_lexer": "ipython2",
   "version": "2.7.12"
  }
 },
 "nbformat": 4,
 "nbformat_minor": 1
}
