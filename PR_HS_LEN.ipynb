{
 "cells": [
  {
   "cell_type": "markdown",
   "metadata": {},
   "source": [
    "## An unsupervised approach to rank product reviews\n",
    "### Jianwei Wu ; Bing Xu ; Sheng Li ; 2011"
   ]
  },
  {
   "cell_type": "code",
   "execution_count": 1,
   "metadata": {
    "collapsed": true
   },
   "outputs": [],
   "source": [
    "import nltk\n",
    "import pandas as pd\n",
    "import numpy as np\n",
    "import MHR as mhr\n",
    "import networkx as nx\n",
    "from nltk import word_tokenize"
   ]
  },
  {
   "cell_type": "code",
   "execution_count": 2,
   "metadata": {
    "collapsed": false
   },
   "outputs": [
    {
     "data": {
      "text/plain": [
       "(19756, 26)"
      ]
     },
     "execution_count": 2,
     "metadata": {},
     "output_type": "execute_result"
    }
   ],
   "source": [
    "def zeroFun(x): return 0\n",
    "dfProducts = pd.read_csv('data/eletronic_sample_counts.csv.gz')\n",
    "dfProducts['pageRank']=dfProducts.apply(zeroFun,axis=1)\n",
    "dfProducts['hits']=dfProducts.apply(zeroFun,axis=1)\n",
    "dfProducts.shape"
   ]
  },
  {
   "cell_type": "code",
   "execution_count": 3,
   "metadata": {
    "collapsed": false
   },
   "outputs": [],
   "source": [
    "def compute_tags(sentence):\n",
    "    tags = []\n",
    "    for token in nltk.pos_tag(nltk.word_tokenize(sentence.lower()), tagset = \"universal\"):\n",
    "        if (token[1] in ['NOUN','VERB','ADJ']):\n",
    "            tags.append(token[0])\n",
    "    return tags\n",
    "\n",
    "def compute_sentence(sentence1, sentence2):\n",
    "    return (len(set(sentence1).intersection(sentence2)) > 0)\n",
    "\n",
    "def compute_sentences_graph(sentences):\n",
    "    sentences_count = len(sentences)\n",
    "    matrix = np.zeros((sentences_count,sentences_count))\n",
    "\n",
    "    for row in range(sentences_count):\n",
    "        for col in range(sentences_count):\n",
    "            matrix[row, col] = compute_sentence(sentences[row],sentences[col])\n",
    "\n",
    "    return matrix"
   ]
  },
  {
   "cell_type": "code",
   "execution_count": null,
   "metadata": {
    "collapsed": false,
    "scrolled": true
   },
   "outputs": [],
   "source": [
    "import time\n",
    "\n",
    "# run your code\n",
    "\n",
    "\n",
    "min_comments=30\n",
    "min_votes=5\n",
    "\n",
    "grouped=dfProducts[dfProducts['tot'].astype(int)>min_votes].groupby('asin')\n",
    "total = len(grouped)\n",
    "run = 1\n",
    "performance={}\n",
    "for name, group in grouped:\n",
    "    start = time.time()\n",
    "\n",
    "    dffiltro = (dfProducts['asin']==name) & (dfProducts['tot'].astype(int)>min_votes)\n",
    "    comments_count = dfProducts[dffiltro ]['tot'].values\n",
    "    \n",
    "    print(\"Run %d size %d for %d\" % (run, len(comments_count), total))\n",
    "    \n",
    "    if ( (len(comments_count)>min_comments) ):\n",
    "        sentences=[]\n",
    "        \n",
    "        print \"computing\"\n",
    "        \n",
    "        for t in dfProducts[dffiltro].T.to_dict().values():\n",
    "            for s in nltk.sent_tokenize(t['reviewText']):\n",
    "                sentences.append(compute_tags(s))   \n",
    "                \n",
    "        sentences_graph = compute_sentences_graph(sentences)\n",
    "        nx_graph = nx.from_numpy_matrix(sentences_graph)\n",
    "        pg_sentences = nx.pagerank_numpy(nx_graph)\n",
    "        hits_sentences = nx.hits_numpy(nx_graph)\n",
    "\n",
    "        count=0\n",
    "        for t in dfProducts[dffiltro].T.to_dict().values():\n",
    "            for s in nltk.sent_tokenize(t['reviewText']):\n",
    "                dfProducts.loc[t.values()[3],'pageRank'] += float(pg_sentences[count])\n",
    "                dfProducts.loc[t.values()[3],'hits'] += float(hits_sentences[1][count]) #authority score\n",
    "                count += 1\n",
    "\n",
    "        \n",
    "        #break\n",
    "    run += 1\n",
    "    end = time.time()\n",
    "    elapsed = end - start\n",
    "    performance['product']=name\n",
    "    performance['tot_comments']=comments_count\n",
    "    performance['elapsed']=elapsed\n",
    "    pd.DataFrame(performance).to_csv('data/performance_PR_HS_LEN.csv')"
   ]
  },
  {
   "cell_type": "code",
   "execution_count": 5,
   "metadata": {
    "collapsed": true
   },
   "outputs": [],
   "source": [
    "dfProducts.to_csv('data/eletronic_sample_counts.csv.gz', compression='gzip')"
   ]
  }
 ],
 "metadata": {
  "kernelspec": {
   "display_name": "Python 2",
   "language": "python",
   "name": "python2"
  },
  "language_info": {
   "codemirror_mode": {
    "name": "ipython",
    "version": 2
   },
   "file_extension": ".py",
   "mimetype": "text/x-python",
   "name": "python",
   "nbconvert_exporter": "python",
   "pygments_lexer": "ipython2",
   "version": "2.7.3"
  }
 },
 "nbformat": 4,
 "nbformat_minor": 1
}
