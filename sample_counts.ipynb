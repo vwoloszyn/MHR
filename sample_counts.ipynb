{
 "cells": [
  {
   "cell_type": "code",
   "execution_count": 1,
   "metadata": {
    "collapsed": false
   },
   "outputs": [],
   "source": [
    "import pandas as pd\n",
    "import numpy as np\n",
    "import nltk\n",
    "from nltk.tokenize import RegexpTokenizer\n",
    "tokenizer = RegexpTokenizer(r'\\w+')"
   ]
  },
  {
   "cell_type": "code",
   "execution_count": null,
   "metadata": {
    "collapsed": false
   },
   "outputs": [],
   "source": [
    "def wordCount(review): \n",
    "    try:\n",
    "        return len(tokenizer.tokenize(review[\"reviewText\"]))\n",
    "    except:\n",
    "        return 0\n",
    "    \n",
    "def posTag(review): \n",
    "    text = nltk.word_tokenize(review[\"reviewText\"].lower())\n",
    "    return nltk.FreqDist(tag for (word, tag) in nltk.pos_tag(text, tagset = \"universal\"))\n",
    "\n",
    "def adjectives(review): \n",
    "    try:\n",
    "        return review[\"pos_tag\"][\"ADJ\"]\n",
    "    except:\n",
    "        return 0\n",
    "    \n",
    "def noun(review): \n",
    "    try:\n",
    "        return review[\"pos_tag\"][\"NOUN\"]\n",
    "    except:\n",
    "        return 0\n",
    "\n",
    "def sentenceCount(review): \n",
    "    try:\n",
    "        return len(nltk.sent_tokenize(review[\"reviewText\"]))\n",
    "    except:\n",
    "        return 0\n",
    "    \n",
    "def unigramCount(review): \n",
    "    try:\n",
    "        unigram_fd = nltk.FreqDist()\n",
    "        unigram_fd.update(nltk.ngrams(tokenizer.tokenize(review[\"reviewText\"]), 1))\n",
    "        return len(unigram_fd)\n",
    "    except:\n",
    "        return 0"
   ]
  },
  {
   "cell_type": "code",
   "execution_count": null,
   "metadata": {
    "collapsed": false
   },
   "outputs": [],
   "source": [
    "reviews_features = pd.read_csv('data/eletronic_sample.csv')\n",
    "reviews_features['word_count'] = reviews_features.apply(wordCount,axis=1)\n",
    "reviews_features['sentence_count'] = reviews_features.apply(sentenceCount,axis=1)\n",
    "reviews_features['unigram_count'] = reviews_features.apply(unigramCount,axis=1)\n",
    "reviews_features['pos_tag'] = reviews_features.apply(posTag,axis=1)\n",
    "reviews_features['adj'] = reviews_features.apply(adjectives,axis=1)\n",
    "reviews_features['noun'] = reviews_features.apply(noun,axis=1)\n",
    "reviews_features.shape"
   ]
  },
  {
   "cell_type": "code",
   "execution_count": null,
   "metadata": {
    "collapsed": false
   },
   "outputs": [],
   "source": [
    "df_columns = reviews_features.columns\n",
    "df_columns"
   ]
  },
  {
   "cell_type": "code",
   "execution_count": null,
   "metadata": {
    "collapsed": false
   },
   "outputs": [],
   "source": [
    "reviews_features.to_csv('data/eletronic_sample_counts.csv.gz', compression='gzip')"
   ]
  }
 ],
 "metadata": {
  "kernelspec": {
   "display_name": "Python 2",
   "language": "python",
   "name": "python2"
  },
  "language_info": {
   "codemirror_mode": {
    "name": "ipython",
    "version": 2
   },
   "file_extension": ".py",
   "mimetype": "text/x-python",
   "name": "python",
   "nbconvert_exporter": "python",
   "pygments_lexer": "ipython2",
   "version": "2.7.12"
  }
 },
 "nbformat": 4,
 "nbformat_minor": 1
}
