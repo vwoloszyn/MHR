{
 "cells": [
  {
   "cell_type": "code",
   "execution_count": 1,
   "metadata": {
    "collapsed": true
   },
   "outputs": [],
   "source": [
    "import pandas as pd\n",
    "import numpy as np\n",
    "\n",
    "from sklearn.svm import SVR, LinearSVR\n",
    "from sklearn.grid_search import GridSearchCV\n",
    "from scipy.stats import spearmanr\n",
    "from sklearn.metrics import make_scorer\n",
    "from time import time\n",
    "\n",
    "def simple_spearman(x,y): return np.abs(spearmanr(x,y)[0])\n",
    "spearmanr_scorer = make_scorer(simple_spearman)"
   ]
  },
  {
   "cell_type": "code",
   "execution_count": 2,
   "metadata": {
    "collapsed": false
   },
   "outputs": [
    {
     "data": {
      "text/plain": [
       "(19756, 19)"
      ]
     },
     "execution_count": 2,
     "metadata": {},
     "output_type": "execute_result"
    }
   ],
   "source": [
    "reviews_features = pd.read_csv('data/eletronic_sample_counts.csv.gz')\n",
    "reviews_features.shape"
   ]
  },
  {
   "cell_type": "code",
   "execution_count": 5,
   "metadata": {
    "collapsed": false
   },
   "outputs": [
    {
     "data": {
      "text/plain": [
       "Index([u'Unnamed: 0', u'Unnamed: 0.1', u'asin', u'helpful', u'overall',\n",
       "       u'reviewText', u'reviewTime', u'reviewerID', u'reviewerName',\n",
       "       u'summary', u'unixReviewTime', u'helpfulness', u'tot', u'word_count',\n",
       "       u'sentence_count', u'unigram_count', u'pos_tag', u'adj', u'noun'],\n",
       "      dtype='object')"
      ]
     },
     "execution_count": 5,
     "metadata": {},
     "output_type": "execute_result"
    }
   ],
   "source": [
    "reviews_features.columns"
   ]
  },
  {
   "cell_type": "code",
   "execution_count": 10,
   "metadata": {
    "collapsed": false
   },
   "outputs": [
    {
     "data": {
      "text/plain": [
       "Index([u'Unnamed: 0', u'Unnamed: 0.1', u'overall', u'unixReviewTime',\n",
       "       u'helpfulness', u'tot', u'word_count', u'sentence_count',\n",
       "       u'unigram_count', u'adj', u'noun'],\n",
       "      dtype='object')"
      ]
     },
     "execution_count": 10,
     "metadata": {},
     "output_type": "execute_result"
    }
   ],
   "source": [
    "df_columns = reviews_features.select_dtypes(include=['float64','int','int64']).columns\n",
    "df_columns"
   ]
  },
  {
   "cell_type": "markdown",
   "metadata": {},
   "source": [
    "## grid search LinearSVM"
   ]
  },
  {
   "cell_type": "code",
   "execution_count": 11,
   "metadata": {
    "collapsed": false
   },
   "outputs": [
    {
     "name": "stdout",
     "output_type": "stream",
     "text": [
      "Fitting 5 folds for each of 3 candidates, totalling 15 fits\n",
      "[CV] epsilon=0.0001 ..................................................\n",
      "[CV] epsilon=0.0001 ..................................................\n",
      "[CV] epsilon=0.0001 ..................................................\n",
      "[CV] epsilon=0.0001 ..................................................\n",
      "[CV] epsilon=0.0001 ..................................................\n",
      "[CV] ......................... epsilon=0.0001, score=0.287399 -  12.4s\n",
      "[CV] epsilon=0.001 ...................................................\n",
      "[CV] ......................... epsilon=0.0001, score=0.055373 -  12.6s\n",
      "[CV] epsilon=0.001 ...................................................\n",
      "[CV] ......................... epsilon=0.0001, score=0.364452 -  12.8s\n",
      "[CV] epsilon=0.001 ...................................................\n",
      "[CV] ......................... epsilon=0.0001, score=0.131618 -  13.0s\n",
      "[CV] epsilon=0.001 ...................................................\n",
      "[CV] ......................... epsilon=0.0001, score=0.122426 -  13.5s\n",
      "[CV] epsilon=0.001 ...................................................\n",
      "[CV] .......................... epsilon=0.001, score=0.251168 -  10.6s\n",
      "[CV] epsilon=0.01 ....................................................\n",
      "[CV] .......................... epsilon=0.001, score=0.403607 -  11.0s\n",
      "[CV] epsilon=0.01 ....................................................\n",
      "[CV] .......................... epsilon=0.001, score=0.323713 -  11.2s\n",
      "[CV] epsilon=0.01 ....................................................\n",
      "[CV] .......................... epsilon=0.001, score=0.318047 -  11.3s\n",
      "[CV] epsilon=0.01 ....................................................\n",
      "[CV] .......................... epsilon=0.001, score=0.358585 -  11.4s\n",
      "[CV] epsilon=0.01 ....................................................\n",
      "[CV] ........................... epsilon=0.01, score=0.287134 -  10.4s\n",
      "[CV] ........................... epsilon=0.01, score=0.312988 -  10.7s\n",
      "[CV] ........................... epsilon=0.01, score=0.228130 -  10.6s\n",
      "[CV] ........................... epsilon=0.01, score=0.262707 -  10.1s\n",
      "[CV] ........................... epsilon=0.01, score=0.227954 -  10.6s\n"
     ]
    },
    {
     "name": "stderr",
     "output_type": "stream",
     "text": [
      "[Parallel(n_jobs=5)]: Done  15 out of  15 | elapsed:   35.3s finished\n"
     ]
    },
    {
     "name": "stdout",
     "output_type": "stream",
     "text": [
      "GridSearchCV took 39.60 seconds for 3 candidates\n"
     ]
    },
    {
     "data": {
      "text/plain": [
       "[mean: 0.19226, std: 0.11489, params: {'epsilon': 0.0001},\n",
       " mean: 0.33102, std: 0.05025, params: {'epsilon': 0.001},\n",
       " mean: 0.26378, std: 0.03323, params: {'epsilon': 0.01}]"
      ]
     },
     "execution_count": 11,
     "metadata": {},
     "output_type": "execute_result"
    }
   ],
   "source": [
    "features = reviews_features[list(['word_count','sentence_count','unigram_count','adj','noun'])].values\n",
    "labels = reviews_features[\"helpfulness\"].values\n",
    "\n",
    "param_grid = [{'epsilon':[10**i for i in range(-4,-1)]},]\n",
    "grid_search = GridSearchCV(LinearSVR(), param_grid=param_grid, scoring=spearmanr_scorer, cv=5, n_jobs=5, verbose=3)\n",
    "start = time()\n",
    "grid_search.fit(features, labels)\n",
    "print(\"GridSearchCV took %.2f seconds for %d candidates\" % (time() - start, len(grid_search.grid_scores_)))\n",
    "grid_search.grid_scores_"
   ]
  },
  {
   "cell_type": "markdown",
   "metadata": {},
   "source": [
    "## grid search SVM RBF"
   ]
  },
  {
   "cell_type": "code",
   "execution_count": null,
   "metadata": {
    "collapsed": true
   },
   "outputs": [],
   "source": [
    "gamma_range = 10 ** np.arange(-4,4,1)\n",
    "C_range = 10.0 ** np.arange(-3,4,1)\n",
    "param_grid = [{'kernel': ['rbf'], 'gamma': gamma_range, 'C': C_range}]\n",
    "grid_search = GridSearchCV(SVR(), param_grid=param_grid, scoring=spearmanr_scorer, cv=5, n_jobs=5, verbose=3)\n",
    "\n",
    "start = time()\n",
    "grid_search.fit(features, labels)\n",
    "print(\"GridSearchCV took %.2f seconds for %d candidates\" % (time() - start, len(grid_search.grid_scores_)))\n",
    "grid_search.grid_scores_"
   ]
  }
 ],
 "metadata": {
  "kernelspec": {
   "display_name": "Python 2",
   "language": "python",
   "name": "python2"
  },
  "language_info": {
   "codemirror_mode": {
    "name": "ipython",
    "version": 2
   },
   "file_extension": ".py",
   "mimetype": "text/x-python",
   "name": "python",
   "nbconvert_exporter": "python",
   "pygments_lexer": "ipython2",
   "version": "2.7.12"
  }
 },
 "nbformat": 4,
 "nbformat_minor": 1
}
