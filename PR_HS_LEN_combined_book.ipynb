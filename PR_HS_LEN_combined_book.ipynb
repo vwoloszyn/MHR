{
 "cells": [
  {
   "cell_type": "code",
   "execution_count": 11,
   "metadata": {
    "collapsed": false
   },
   "outputs": [
    {
     "name": "stdout",
     "output_type": "stream",
     "text": [
      "loading MHR\n"
     ]
    }
   ],
   "source": [
    "import pandas as pd\n",
    "import numpy as np\n",
    "import NDCG as ndcg\n",
    "import MHR as mhr\n",
    "import sys\n",
    "import types\n",
    "ndcg.reload_package(mhr)\n",
    "from sklearn.svm import SVR, LinearSVR\n",
    "from sklearn.grid_search import GridSearchCV\n",
    "from scipy.stats import spearmanr\n",
    "from sklearn.metrics import make_scorer\n",
    "from time import time\n",
    "from nltk.tokenize import RegexpTokenizer\n",
    "tokenizer = RegexpTokenizer(r'\\w+')\n",
    "%matplotlib inline"
   ]
  },
  {
   "cell_type": "code",
   "execution_count": 12,
   "metadata": {
    "collapsed": true
   },
   "outputs": [],
   "source": [
    "def pr_hs(r): \n",
    "    try:\n",
    "        return ( 1 / r['pageRank'] ) + ( 1 / r['hits'] )\n",
    "    except:\n",
    "        return 0\n",
    "\n",
    "def pr_len(r): \n",
    "    try:\n",
    "        return ( 1 / r['pageRank'] ) + ( 1 / r['word_count'] )\n",
    "    except:\n",
    "        return 0\n",
    "    \n",
    "def hs_len(r): \n",
    "    try:\n",
    "        return ( 1 / r['hits'] ) + ( 1 / r['word_count'] )\n",
    "    except:\n",
    "        return 0\n",
    "\n",
    "def pr_hs_len(r): \n",
    "    try:\n",
    "        return ( 1 / r['pr_hs'] ) + ( 1 / r['hs_len'] )\n",
    "    except:\n",
    "        return 0\n",
    "\n",
    "def word_count(r): \n",
    "    try:\n",
    "        return len(tokenizer.tokenize(r[\"reviewText\"]))\n",
    "    except:\n",
    "        return 0"
   ]
  },
  {
   "cell_type": "code",
   "execution_count": 13,
   "metadata": {
    "collapsed": false
   },
   "outputs": [
    {
     "name": "stdout",
     "output_type": "stream",
     "text": [
      "(24234, 32)\n"
     ]
    },
    {
     "name": "stderr",
     "output_type": "stream",
     "text": [
      "/usr/local/lib/python3.5/dist-packages/IPython/core/interactiveshell.py:2717: DtypeWarning: Columns (7,8,10,11,12,13,14,28) have mixed types. Specify dtype option on import or set low_memory=False.\n",
      "  interactivity=interactivity, compiler=compiler, result=result)\n"
     ]
    },
    {
     "data": {
      "text/plain": [
       "Index(['Unnamed: 0', 'Unnamed: 0.1', 'Unnamed: 0.1.1', 'Unnamed: 0.1.1',\n",
       "       'Unnamed: 0.1.1.1', 'Unnamed: 0.1.1.1', 'Unnamed: 0.1.1.1.1', 'overall',\n",
       "       'unixReviewTime', 'helpfulness', 'tot', 'pageRank', 'hits',\n",
       "       'powerWithStar', 'word_count', 'pr_hs', 'pr_len', 'hs_len', 'pr_hs_len',\n",
       "       'sentence_count', 'unigram_count', 'adj', 'noun', 'revRank'],\n",
       "      dtype='object')"
      ]
     },
     "execution_count": 13,
     "metadata": {},
     "output_type": "execute_result"
    }
   ],
   "source": [
    "reviews_features = pd.read_csv('data/book_eletronic_sample_counts.csv.gz')\n",
    "reviews_features = reviews_features[reviews_features.pageRank>0]\n",
    "print (reviews_features.shape)\n",
    "df_columns = reviews_features.select_dtypes(include=['float64','int','int64']).columns\n",
    "df_columns"
   ]
  },
  {
   "cell_type": "code",
   "execution_count": 14,
   "metadata": {
    "collapsed": false
   },
   "outputs": [
    {
     "data": {
      "text/plain": [
       "(24234, 32)"
      ]
     },
     "execution_count": 14,
     "metadata": {},
     "output_type": "execute_result"
    }
   ],
   "source": [
    "reviews_features['word_count']=reviews_features.apply(word_count,axis=1)\n",
    "reviews_features['pr_hs']=reviews_features.apply(pr_hs,axis=1)\n",
    "reviews_features['pr_len']=reviews_features.apply(pr_len,axis=1)\n",
    "reviews_features['hs_len']=reviews_features.apply(hs_len,axis=1)\n",
    "reviews_features['pr_hs_len']=reviews_features.apply(pr_hs_len,axis=1)\n",
    "#reviews_features.to_csv('data/book_sample.csv.gz', compression='gzip')\n",
    "reviews_features.shape"
   ]
  },
  {
   "cell_type": "code",
   "execution_count": 15,
   "metadata": {
    "collapsed": false
   },
   "outputs": [],
   "source": [
    "def helpf(x):\n",
    "    x = str(x['helpful']) \n",
    "    try:\n",
    "        pos = x.replace(\"[\",\"\").replace(\"]\",\"\").split(',')[0]\n",
    "        neg = x.replace(\"[\",\"\").replace(\"]\",\"\").split(',')[1]\n",
    "        tot = x.replace(\"[\",\"\").replace(\"]\",\"\").split(',')[1]\n",
    "        return float ( float(pos) /  float(tot) )\n",
    "    except:\n",
    "        return 0\n",
    "\n",
    "def tot(x): \n",
    "    x = str(x['helpful'])\n",
    "    #print x.replace(\"[\",\"\").replace(\"]\",\"\").split(',')[1]\n",
    "    try:\n",
    "        return int(x.replace(\"[\",\"\").replace(\"]\",\"\").split(', ')[1])\n",
    "    except:\n",
    "        return 0\n",
    "\n",
    "\n",
    "\n",
    "reviews_features['helpfulness']=reviews_features.apply(helpf,axis=1)\n",
    "reviews_features['tot']=reviews_features.apply(tot,axis=1)"
   ]
  },
  {
   "cell_type": "code",
   "execution_count": 16,
   "metadata": {
    "collapsed": false,
    "scrolled": true
   },
   "outputs": [],
   "source": [
    "#reviews_features,ndcg_mhr = mhr.executeFromDf(reviews_features)"
   ]
  },
  {
   "cell_type": "code",
   "execution_count": 17,
   "metadata": {
    "collapsed": false,
    "scrolled": true
   },
   "outputs": [
    {
     "name": "stderr",
     "output_type": "stream",
     "text": [
      "/usr/local/lib/python3.5/dist-packages/numpy/lib/function_base.py:2487: RuntimeWarning: Degrees of freedom <= 0 for slice\n",
      "  warnings.warn(\"Degrees of freedom <= 0 for slice\", RuntimeWarning)\n",
      "/usr/local/lib/python3.5/dist-packages/numpy/lib/function_base.py:2496: RuntimeWarning: divide by zero encountered in double_scalars\n",
      "  c *= 1. / np.float64(fact)\n",
      "/usr/local/lib/python3.5/dist-packages/numpy/lib/function_base.py:2496: RuntimeWarning: invalid value encountered in multiply\n",
      "  c *= 1. / np.float64(fact)\n"
     ]
    },
    {
     "name": "stdout",
     "output_type": "stream",
     "text": [
      "pr_hs ndcg=0.467321115009\n",
      "pr_len ndcg=0.465769832771\n",
      "hs_len ndcg=0.469452279099\n",
      "pr_hs_len ndcg=0.77131406432\n",
      "PageRank ndcg=0.770294098881\n",
      "HITs ndcg=0.772097593674\n",
      "MHR ndcg=0.766695048499\n",
      "461\n",
      "461\n",
      "461\n",
      "461\n",
      "461\n",
      "461\n",
      "461\n"
     ]
    },
    {
     "data": {
      "text/plain": [
       "<matplotlib.text.Text at 0x7fdad6a13588>"
      ]
     },
     "execution_count": 17,
     "metadata": {},
     "output_type": "execute_result"
    },
    {
     "data": {
      "image/png": "[encoded data removed]",
      "text/plain": [
       "<matplotlib.figure.Figure at 0x7fdad6b39320>"
      ]
     },
     "metadata": {},
     "output_type": "display_data"
    }
   ],
   "source": [
    "import seaborn as sns\n",
    "k=5\n",
    "\n",
    "ndcg_pr_hs_len=ndcg.calc_ndcg(reviews_features,'pr_hs_len',k) \n",
    "corr_pr_hs_len=ndcg.calc_corr(reviews_features,'pr_hs_len') \n",
    "print (\"pr_hs_len ndcg=\"+str(np.mean(ndcg_pr_hs_len)))\n",
    "\n",
    "ndcg_mhr=ndcg.calc_ndcg(reviews_features,'powerWithStar',k) \n",
    "corr_mhr=ndcg.calc_corr(reviews_features,'powerWithStar') \n",
    "print (\"MHR ndcg=\"+str(np.mean(ndcg_mhr)))\n",
    "\n",
    "ndcg_revRank=ndcg.calc_ndcg(reviews_features,'revRank',k) \n",
    "corr_revRank=ndcg.calc_corr(reviews_features,'revRank') \n",
    "print (\"RevRank ndcg=\"+str(np.mean(ndcg_revRank)))\n",
    "\n",
    "print (len(ndcg_pr_hs_len))\n",
    "print (len(ndcg_mhr))\n",
    "print (len(ndcg_revRank))\n",
    "\n",
    "tip={}\n",
    "tip['PR_HS_LEN']=ndcg_pr_hs_len\n",
    "tip['MHR']=ndcg_mhr\n",
    "tip['REVRANK']=ndcg_revRank\n",
    "df = pd.DataFrame(tip)\n",
    "ax = sns.boxplot(data=df)\n",
    "#ax = sns.swarmplot(data=df, color=\".25\")\n",
    "ax.set_title('NDCG@'+str(k))"
   ]
  },
  {
   "cell_type": "code",
   "execution_count": 18,
   "metadata": {
    "collapsed": false
   },
   "outputs": [
    {
     "name": "stdout",
     "output_type": "stream",
     "text": [
      "pr_hs_len ndcg 1=0.726896292723\n",
      "pr_hs_len ndcg 3=0.756294836225\n",
      "pr_hs_len ndcg 5=0.77131406432\n"
     ]
    }
   ],
   "source": [
    "ndcg_pr_hs_len=ndcg.calc_ndcg(reviews_features,'pr_hs_len',1) \n",
    "print (\"pr_hs_len ndcg 1=\"+str(np.mean(ndcg_pr_hs_len)))\n",
    "ndcg_pr_hs_len=ndcg.calc_ndcg(reviews_features,'pr_hs_len',3) \n",
    "print (\"pr_hs_len ndcg 3=\"+str(np.mean(ndcg_pr_hs_len)))\n",
    "ndcg_pr_hs_len=ndcg.calc_ndcg(reviews_features,'pr_hs_len',5) \n",
    "print (\"pr_hs_len ndcg 5=\"+str(np.mean(ndcg_pr_hs_len)))"
   ]
  },
  {
   "cell_type": "code",
   "execution_count": 22,
   "metadata": {
    "collapsed": false
   },
   "outputs": [
    {
     "name": "stdout",
     "output_type": "stream",
     "text": [
      "revRank ndcg 1=0.66052590951\n",
      "revRank ndcg 3=0.681738097775\n",
      "revRank ndcg 5=0.687225066461\n"
     ]
    }
   ],
   "source": [
    "ndcg_revRank=ndcg.calc_ndcg(reviews_features,'revRank',1) \n",
    "print (\"revRank ndcg 1=\"+str(np.mean(ndcg_revRank)))\n",
    "ndcg_revRank=ndcg.calc_ndcg(reviews_features,'revRank',3) \n",
    "print (\"revRank ndcg 3=\"+str(np.mean(ndcg_revRank)))\n",
    "ndcg_revRank=ndcg.calc_ndcg(reviews_features,'revRank',5) \n",
    "print (\"revRank ndcg 5=\"+str(np.mean(ndcg_revRank)))"
   ]
  },
  {
   "cell_type": "code",
   "execution_count": 20,
   "metadata": {
    "collapsed": false
   },
   "outputs": [
    {
     "name": "stdout",
     "output_type": "stream",
     "text": [
      "MHR ndcg 1=0.741230569123\n",
      "MHR ndcg 3=0.758653152052\n",
      "MHR ndcg 5=0.766695048499\n"
     ]
    }
   ],
   "source": [
    "ndcg_pr_hs_len=ndcg.calc_ndcg(reviews_features,'powerWithStar',1) \n",
    "print (\"MHR ndcg 1=\"+str(np.mean(ndcg_pr_hs_len)))\n",
    "ndcg_pr_hs_len=ndcg.calc_ndcg(reviews_features,'powerWithStar',3) \n",
    "print (\"MHR ndcg 3=\"+str(np.mean(ndcg_pr_hs_len)))\n",
    "ndcg_pr_hs_len=ndcg.calc_ndcg(reviews_features,'powerWithStar',5) \n",
    "print (\"MHR ndcg 5=\"+str(np.mean(ndcg_pr_hs_len)))"
   ]
  },
  {
   "cell_type": "code",
   "execution_count": 24,
   "metadata": {
    "collapsed": false
   },
   "outputs": [
    {
     "data": {
      "text/plain": [
       "[None, None, None, None, None, None, None, None, None, None, None, None]"
      ]
     },
     "execution_count": 24,
     "metadata": {},
     "output_type": "execute_result"
    },
    {
     "data": {
      "image/png": "[encoded data removed]",
      "text/plain": [
       "<matplotlib.figure.Figure at 0x7fdad99c8400>"
      ]
     },
     "metadata": {},
     "output_type": "display_data"
    }
   ],
   "source": [
    "import matplotlib as mpl\n",
    "mpl.rcParams.update(mpl.rcParamsDefault)\n",
    "import matplotlib.pyplot as plt \n",
    "%matplotlib inline\n",
    "data_to_plot = [ndcg_revRank, ndcg_pr_hs_len, ndcg_mhr]\n",
    "\n",
    "\n",
    "bp = plt.boxplot(data_to_plot, labels=[\"REVRANK\",\"PR_HS_LEN\",\"MRR\"], sym='')\n",
    "plt.setp(bp['boxes'], linewidth=1, color='black')\n",
    "plt.setp(bp['fliers'], linewidth=1, color='black')\n",
    "plt.setp(bp['medians'], linewidth=1, color='black')\n",
    "plt.setp(bp['whiskers'], linewidth=1, color='black')"
   ]
  },
  {
   "cell_type": "code",
   "execution_count": null,
   "metadata": {
    "collapsed": true
   },
   "outputs": [],
   "source": []
  }
 ],
 "metadata": {
  "kernelspec": {
   "display_name": "Python 3",
   "language": "python",
   "name": "python3"
  },
  "language_info": {
   "codemirror_mode": {
    "name": "ipython",
    "version": 3
   },
   "file_extension": ".py",
   "mimetype": "text/x-python",
   "name": "python",
   "nbconvert_exporter": "python",
   "pygments_lexer": "ipython3",
   "version": "3.5.2"
  }
 },
 "nbformat": 4,
 "nbformat_minor": 1
}
