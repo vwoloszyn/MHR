{
 "cells": [
  {
   "cell_type": "code",
   "execution_count": 1,
   "metadata": {
    "collapsed": false
   },
   "outputs": [
    {
     "name": "stdout",
     "output_type": "stream",
     "text": [
      "loading MHR\n"
     ]
    },
    {
     "name": "stderr",
     "output_type": "stream",
     "text": [
      "/Library/Python/2.7/site-packages/sklearn/cross_validation.py:44: DeprecationWarning: This module was deprecated in version 0.18 in favor of the model_selection module into which all the refactored classes and functions are moved. Also note that the interface of the new CV iterators are different from that of this module. This module will be removed in 0.20.\n",
      "  \"This module will be removed in 0.20.\", DeprecationWarning)\n",
      "/Library/Python/2.7/site-packages/sklearn/grid_search.py:43: DeprecationWarning: This module was deprecated in version 0.18 in favor of the model_selection module into which all the refactored classes and functions are moved. This module will be removed in 0.20.\n",
      "  DeprecationWarning)\n"
     ]
    }
   ],
   "source": [
    "import pandas as pd\n",
    "import numpy as np\n",
    "import NDCG as ndcg\n",
    "import MHR as mhr\n",
    "import sys\n",
    "import types\n",
    "ndcg.reload_package(mhr)\n",
    "from sklearn.svm import SVR, LinearSVR\n",
    "from sklearn.grid_search import GridSearchCV\n",
    "from scipy.stats import spearmanr\n",
    "from sklearn.metrics import make_scorer\n",
    "from time import time\n",
    "from nltk.tokenize import RegexpTokenizer\n",
    "tokenizer = RegexpTokenizer(r'\\w+')\n",
    "%matplotlib inline"
   ]
  },
  {
   "cell_type": "code",
   "execution_count": 2,
   "metadata": {
    "collapsed": true
   },
   "outputs": [],
   "source": [
    "def pr_hs(r): \n",
    "    try:\n",
    "        return ( 1 / r['pageRank'] ) + ( 1 / r['hits'] )\n",
    "    except:\n",
    "        return 0\n",
    "\n",
    "def pr_len(r): \n",
    "    try:\n",
    "        return ( 1 / r['pageRank'] ) + ( 1 / r['word_count'] )\n",
    "    except:\n",
    "        return 0\n",
    "    \n",
    "def hs_len(r): \n",
    "    try:\n",
    "        return ( 1 / r['hits'] ) + ( 1 / r['word_count'] )\n",
    "    except:\n",
    "        return 0\n",
    "\n",
    "def pr_hs_len(r): \n",
    "    try:\n",
    "        return ( 1 / r['pr_hs'] ) + ( 1 / r['hs_len'] )\n",
    "    except:\n",
    "        return 0\n",
    "\n",
    "def word_count(r): \n",
    "    try:\n",
    "        return len(tokenizer.tokenize(r[\"reviewText\"]))\n",
    "    except:\n",
    "        return 0"
   ]
  },
  {
   "cell_type": "code",
   "execution_count": 3,
   "metadata": {
    "collapsed": false
   },
   "outputs": [
    {
     "name": "stdout",
     "output_type": "stream",
     "text": [
      "(24234, 32)\n"
     ]
    },
    {
     "name": "stderr",
     "output_type": "stream",
     "text": [
      "/Library/Python/2.7/site-packages/IPython/core/interactiveshell.py:2902: DtypeWarning: Columns (7,8,10,11,12,13,14,28) have mixed types. Specify dtype option on import or set low_memory=False.\n",
      "  interactivity=interactivity, compiler=compiler, result=result)\n"
     ]
    },
    {
     "data": {
      "text/plain": [
       "Index([u'Unnamed: 0', u'Unnamed: 0.1', u'Unnamed: 0.1', u'Unnamed: 0.1.1',\n",
       "       u'Unnamed: 0.1.1', u'Unnamed: 0.1.1.1', u'Unnamed: 0.1.1.1', u'overall',\n",
       "       u'unixReviewTime', u'helpfulness', u'tot', u'pageRank', u'hits',\n",
       "       u'powerWithStar', u'word_count', u'pr_hs', u'pr_len', u'hs_len',\n",
       "       u'pr_hs_len', u'sentence_count', u'unigram_count', u'adj', u'noun',\n",
       "       u'revRank'],\n",
       "      dtype='object')"
      ]
     },
     "execution_count": 3,
     "metadata": {},
     "output_type": "execute_result"
    }
   ],
   "source": [
    "reviews_features = pd.read_csv('data/book_eletronic_sample_counts.csv.gz')\n",
    "reviews_features = reviews_features[reviews_features.pageRank>0]\n",
    "print (reviews_features.shape)\n",
    "df_columns = reviews_features.select_dtypes(include=['float64','int','int64']).columns\n",
    "df_columns"
   ]
  },
  {
   "cell_type": "code",
   "execution_count": 4,
   "metadata": {
    "collapsed": false
   },
   "outputs": [
    {
     "data": {
      "text/plain": [
       "(24234, 32)"
      ]
     },
     "execution_count": 4,
     "metadata": {},
     "output_type": "execute_result"
    }
   ],
   "source": [
    "reviews_features['word_count']=reviews_features.apply(word_count,axis=1)\n",
    "reviews_features['pr_hs']=reviews_features.apply(pr_hs,axis=1)\n",
    "reviews_features['pr_len']=reviews_features.apply(pr_len,axis=1)\n",
    "reviews_features['hs_len']=reviews_features.apply(hs_len,axis=1)\n",
    "reviews_features['pr_hs_len']=reviews_features.apply(pr_hs_len,axis=1)\n",
    "#reviews_features.to_csv('data/book_sample.csv.gz', compression='gzip')\n",
    "reviews_features.shape"
   ]
  },
  {
   "cell_type": "code",
   "execution_count": 15,
   "metadata": {
    "collapsed": false,
    "scrolled": true
   },
   "outputs": [
    {
     "name": "stdout",
     "output_type": "stream",
     "text": [
      "product=0002051850 ndcg=0.783847313733 (0.783847313733)\n",
      "product=000224053X ndcg=0.79024800371 (0.796648693688)\n",
      "product=0006393195 ndcg=0.781925019086 (0.765279049838)\n",
      "product=0006530702 ndcg=0.793045111192 (0.826405387509)\n",
      "product=0007157150 ndcg=0.807210570282 (0.863872406645)\n",
      "product=0007167040 ndcg=0.811961991584 (0.835719098093)\n",
      "product=000721278X ndcg=0.829460077004 (0.934448589521)\n",
      "product=0007228023 ndcg=0.839201502211 (0.907391478663)\n",
      "product=0007231601 ndcg=0.843040112063 (0.873748990879)\n",
      "product=000779021X ndcg=0.835347594209 (0.766114933521)\n",
      "product=0026045702 ndcg=0.838421721959 (0.869162999453)\n",
      "product=0029109752 ndcg=0.840663030498 (0.865317424427)\n",
      "product=006000942X ndcg=0.837607778435 (0.800944753686)\n",
      "product=0060083816 ndcg=0.834963852018 (0.800592808601)\n",
      "product=0060084332 ndcg=0.836271296607 (0.854575520842)\n",
      "product=0060175869 ndcg=0.838733676747 (0.87566937886)\n",
      "product=0060192119 ndcg=0.831667379891 (0.718606630192)\n",
      "product=006019491X ndcg=0.82002443708 (0.622094409285)\n",
      "product=0060393491 ndcg=0.821960438142 (0.856808457268)\n",
      "product=0060508205 ndcg=0.824927192917 (0.881295533629)\n",
      "product=0060510862 ndcg=0.82190281033 (0.761415158594)\n",
      "product=0060516054 ndcg=0.822379444024 (0.832388751595)\n",
      "product=0060520612 ndcg=0.824063947612 (0.861123026544)\n",
      "product=0060526769 ndcg=0.820811973959 (0.746016579956)\n",
      "product=0060531258 ndcg=0.81968602568 (0.792663266971)\n",
      "product=0060537639 ndcg=0.818409821696 (0.786504722097)\n",
      "product=0060540974 ndcg=0.817891389769 (0.804412159666)\n",
      "product=0060544244 ndcg=0.81413420793 (0.712690298277)\n",
      "product=0060554738 ndcg=0.813646339004 (0.799986009073)\n",
      "product=0060558288 ndcg=0.811968372189 (0.763307334565)\n",
      "product=0060560053 ndcg=0.802400749639 (0.515372073127)\n",
      "product=0060571993 ndcg=0.797554318183 (0.647314943043)\n",
      "product=0060578629 ndcg=0.802767905428 (0.969602697279)\n",
      "product=0060581778 ndcg=0.803115934348 (0.814600888721)\n",
      "product=0060584009 ndcg=0.80057439501 (0.714162057523)\n",
      "product=0060584750 ndcg=0.801914738219 (0.84882675053)\n",
      "product=0060589469 ndcg=0.803914261767 (0.875897109473)\n",
      "product=0060591854 ndcg=0.807441323848 (0.937942620869)\n",
      "product=0060609176 ndcg=0.807663460281 (0.816104644724)\n",
      "product=006063040X ndcg=0.808562892352 (0.843640743119)\n",
      "product=0060652950 ndcg=0.808688332831 (0.813705951997)\n",
      "product=0060746734 ndcg=0.809741785393 (0.852933340441)\n",
      "product=0060753943 ndcg=0.810598017723 (0.846559775583)\n",
      "product=006075995X ndcg=0.809602394776 (0.766790608031)\n",
      "product=0060762055 ndcg=0.807879458173 (0.732070247669)\n",
      "product=0060774738 ndcg=0.805564105315 (0.701373226674)\n",
      "product=0060775858 ndcg=0.796049558566 (0.358380408133)\n",
      "product=0060788194 ndcg=0.796100530083 (0.798496191394)\n",
      "product=0060788380 ndcg=0.796196233957 (0.800790019894)\n",
      "product=0060817089 ndcg=0.794881516982 (0.730460385224)\n",
      "product=006083482X ndcg=0.794663573385 (0.783766393504)\n",
      "product=0060837721 ndcg=0.798193431471 (0.978216193881)\n",
      "product=0060838574 ndcg=0.796107577801 (0.687643186947)\n",
      "product=0060838728 ndcg=0.796480391114 (0.816239496696)\n",
      "product=0060852550 ndcg=0.797841432734 (0.871337680225)\n",
      "product=0060853972 ndcg=0.797364434895 (0.771129553721)\n",
      "product=006085880X ndcg=0.796600388653 (0.753813799152)\n",
      "product=0060874465 ndcg=0.797954069025 (0.875113850201)\n",
      "product=006087600X ndcg=0.800025446201 (0.920165322401)\n",
      "product=0060876107 ndcg=0.802467620669 (0.946555914295)\n",
      "product=0060885483 ndcg=0.804118433052 (0.903167176052)\n",
      "product=0060889578 ndcg=0.799015826484 (0.487756825813)\n",
      "product=0060916575 ndcg=0.799271181796 (0.815103211114)\n",
      "product=0060927488 ndcg=0.799006145709 (0.782308872279)\n",
      "product=0060930187 ndcg=0.80081567351 (0.916625452738)\n",
      "product=0060931175 ndcg=0.802399185219 (0.905327446343)\n",
      "product=0060935936 ndcg=0.803299207839 (0.862700700722)\n",
      "product=0060936231 ndcg=0.804536642013 (0.887444731715)\n",
      "product=0060937998 ndcg=0.804897294446 (0.829421659876)\n",
      "product=0060957867 ndcg=0.806969035863 (0.949919193631)\n",
      "product=0060959584 ndcg=0.807826472918 (0.867847066775)\n",
      "product=0060959681 ndcg=0.808713453204 (0.871689053523)\n",
      "product=0060974680 ndcg=0.810166520289 (0.914787350373)\n",
      "product=0061138010 ndcg=0.810842865173 (0.860216041741)\n",
      "product=0061147788 ndcg=0.810824468891 (0.809463143992)\n",
      "product=0061147931 ndcg=0.809843275383 (0.736253762241)\n",
      "product=0061177598 ndcg=0.811551603341 (0.941384528165)\n",
      "product=0061245089 ndcg=0.813570792135 (0.969048329282)\n",
      "product=0061257095 ndcg=0.812783455845 (0.751371225262)\n",
      "product=0061259357 ndcg=0.811590260759 (0.717327848954)\n",
      "product=0061335290 ndcg=0.810036382754 (0.685726142306)\n",
      "product=006135323X ndcg=0.80881562672 (0.709934387987)\n",
      "product=0061433012 ndcg=0.808470449374 (0.780165906989)\n",
      "product=0061448761 ndcg=0.80957649124 (0.901377966136)\n",
      "product=0061472786 ndcg=0.806337316205 (0.534246613283)\n",
      "product=0061537934 ndcg=0.805446064198 (0.729689643592)\n",
      "product=0061547565 ndcg=0.80608062013 (0.860652430318)\n",
      "product=0061558230 ndcg=0.80689685144 (0.877908975377)\n",
      "product=0061582417 ndcg=0.808687710803 (0.966283334755)\n",
      "product=0061583251 ndcg=0.806710103404 (0.630703044848)\n",
      "product=0061778184 ndcg=0.806837056223 (0.818262809979)\n",
      "product=0061836923 ndcg=0.806042342749 (0.733723416615)\n",
      "product=0061928127 ndcg=0.806288125099 (0.828900101256)\n",
      "product=0061967556 ndcg=0.807117049989 (0.884207064753)\n",
      "product=006199104X ndcg=0.807659781677 (0.858676560369)\n",
      "product=0061992704 ndcg=0.807408363846 (0.783523669905)\n",
      "product=0061997161 ndcg=0.807141864479 (0.781557925275)\n",
      "product=0062011847 ndcg=0.807685094887 (0.860378444426)\n",
      "product=0062021281 ndcg=0.808201454081 (0.858804655076)\n",
      "product=0062048503 ndcg=0.808049330325 (0.792989078564)\n",
      "product=0062049690 ndcg=0.807184470622 (0.720698500324)\n",
      "product=0062060619 ndcg=0.807402460167 (0.8294194042)\n",
      "product=0062073125 ndcg=0.808144237446 (0.883805519885)\n",
      "product=0062102222 ndcg=0.808653057502 (0.861061523296)\n",
      "product=0062104527 ndcg=0.809654141235 (0.913766849448)\n",
      "product=0062113488 ndcg=0.811024229334 (0.954883479659)\n",
      "product=0062197258 ndcg=0.811681330039 (0.881334004804)\n",
      "product=0062218875 ndcg=0.811836655933 (0.828456526581)\n",
      "product=0062255657 ndcg=0.809141427048 (0.518056707446)\n",
      "product=0062294377 ndcg=0.808361907958 (0.723394327203)\n",
      "product=0062314254 ndcg=0.807787100974 (0.744558332722)\n",
      "product=0062516329 ndcg=0.807869799057 (0.817049286304)\n",
      "product=0071381678 ndcg=0.807899861326 (0.81126683546)\n",
      "product=007148499X ndcg=0.808255712656 (0.848466912852)\n",
      "product=0091949300 ndcg=0.807170414486 (0.68344642314)\n",
      "product=009928264X ndcg=0.805167843848 (0.574872220537)\n",
      "product=0099297701 ndcg=0.804771720348 (0.758821394287)\n",
      "product=0099452243 ndcg=0.805244993778 (0.860617985141)\n",
      "product=0099458322 ndcg=0.80566088793 (0.854736397851)\n",
      "product=0099496941 ndcg=0.805882098426 (0.832206147385)\n",
      "product=0099727404 ndcg=0.806372532308 (0.865224598188)\n",
      "product=0099728605 ndcg=0.805355411213 (0.682283758766)\n",
      "product=013702018X ndcg=0.805352116689 (0.804950184677)\n",
      "product=0140062866 ndcg=0.805078435219 (0.77141561449)\n",
      "product=0140077022 ndcg=0.804532935749 (0.736891001373)\n",
      "product=0140094385 ndcg=0.804524481546 (0.803467706275)\n",
      "product=0140109277 ndcg=0.804070868023 (0.746915564078)\n",
      "product=0140120831 ndcg=0.804439641126 (0.851273825223)\n",
      "product=0140177191 ndcg=0.805157056521 (0.896986227088)\n",
      "product=0140177620 ndcg=0.805287518588 (0.822117125246)\n",
      "product=0140178287 ndcg=0.805823651034 (0.875520869036)\n",
      "product=0140186409 ndcg=0.806099874666 (0.842285170428)\n",
      "product=014023313X ndcg=0.805942991644 (0.785234432698)\n",
      "product=014023828X ndcg=0.805444034884 (0.739082785844)\n",
      "product=0140249435 ndcg=0.806091408849 (0.89283952011)\n",
      "product=0140268863 ndcg=0.806456853864 (0.855791930891)\n",
      "product=014027541X ndcg=0.805769034952 (0.712225662894)\n",
      "product=0140280197 ndcg=0.805848051509 (0.816673319834)\n",
      "product=0140280553 ndcg=0.80660825804 (0.911516759301)\n",
      "product=0140281118 ndcg=0.80713678683 (0.880602288654)\n",
      "product=0140289208 ndcg=0.806661644326 (0.740141693764)\n",
      "product=014029628X ndcg=0.807214255295 (0.885132401932)\n",
      "product=0140434941 ndcg=0.807558249996 (0.856405497536)\n",
      "product=0140444173 ndcg=0.806978957684 (0.724140157131)\n",
      "product=014044615X ndcg=0.808022676795 (0.958318228722)\n",
      "product=0140447571 ndcg=0.806700551967 (0.614992451911)\n",
      "product=014044792X ndcg=0.806056084589 (0.711963847448)\n",
      "product=0141001763 ndcg=0.806105581109 (0.81338156955)\n",
      "product=0141004924 ndcg=0.805729628706 (0.750088672986)\n",
      "product=0141023384 ndcg=0.805204078163 (0.72689704738)\n",
      "product=0141026162 ndcg=0.803778018212 (0.589869025504)\n",
      "product=014104179X ndcg=0.803584314611 (0.774335070919)\n",
      "product=0141185260 ndcg=0.80462926464 (0.963461668995)\n",
      "product=014118776X ndcg=0.803803344655 (0.677437586871)\n",
      "product=0141188596 ndcg=0.804849332892 (0.965931521375)\n",
      "product=014132113X ndcg=0.805481545239 (0.903474459035)\n",
      "product=0141339195 ndcg=0.805274274493 (0.772940038111)\n",
      "product=0141884819 ndcg=0.804492243357 (0.681713355146)\n",
      "product=0142001686 ndcg=0.804684229631 (0.835018060848)\n",
      "product=0142001805 ndcg=0.804876916707 (0.835514161841)\n",
      "product=0142002623 ndcg=0.805092266733 (0.839548270842)\n",
      "product=0142003344 ndcg=0.804494130131 (0.708194137166)\n",
      "product=0142004332 ndcg=0.8051895064 (0.917840461979)\n",
      "product=014219672X ndcg=0.804887592114 (0.755675563602)\n",
      "product=0142437263 ndcg=0.804895153007 (0.806135139423)\n",
      "product=0142800376 ndcg=0.804620713072 (0.759338123829)\n",
      "product=0142800651 ndcg=0.805437732935 (0.941063030182)\n",
      "product=0143034316 ndcg=0.806151565556 (0.925361613191)\n",
      "product=0143034898 ndcg=0.806474129895 (0.860664938904)\n",
      "product=0143036084 ndcg=0.806552796766 (0.819847497922)\n",
      "product=0143036580 ndcg=0.805204119142 (0.575928923049)\n",
      "product=0143037684 ndcg=0.804935363176 (0.758978092946)\n",
      "product=0143037749 ndcg=0.804427808359 (0.717128379958)\n",
      "product=0143038281 ndcg=0.80466766295 (0.846162507054)\n",
      "product=014303832X ndcg=0.805040837548 (0.869973217605)\n",
      "product=014303880X ndcg=0.805537133693 (0.892388959135)\n",
      "product=0143038915 ndcg=0.805330194229 (0.768908848563)\n",
      "product=0143057324 ndcg=0.805179336559 (0.778477528997)\n",
      "product=0143057340 ndcg=0.805583479333 (0.87752089306)\n",
      "product=014305760X ndcg=0.805159680886 (0.729299758929)\n",
      "product=0143058266 ndcg=0.805668812757 (0.897312549463)\n",
      "product=0143059114 ndcg=0.806574343522 (0.970475412011)\n",
      "product=0143059335 ndcg=0.806241532454 (0.745669918144)\n",
      "product=0143101226 ndcg=0.806527705244 (0.858897325782)\n",
      "product=0143112341 ndcg=0.807161911407 (0.92385584535)\n",
      "product=014311252X ndcg=0.806733772461 (0.727528067411)\n",
      "product=0143114964 ndcg=0.806956221989 (0.848331834275)\n",
      "product=0143115006 ndcg=0.807006337449 (0.816377928535)\n",
      "product=0143115014 ndcg=0.807345269061 (0.871064412025)\n",
      "product=0143118242 ndcg=0.807635302628 (0.862451646818)\n",
      "product=0143118579 ndcg=0.807097635511 (0.704940883263)\n",
      "product=0143122061 ndcg=0.80744626843 (0.874035155945)\n",
      "product=0143142410 ndcg=0.807601053203 (0.837319729568)\n",
      "product=0143143743 ndcg=0.808036851166 (0.892145858187)\n",
      "product=014314376X ndcg=0.807181718789 (0.641286037599)\n",
      "product=0143144006 ndcg=0.807444601072 (0.85870664628)\n",
      "product=0143144790 ndcg=0.805742330086 (0.472097216687)\n",
      "product=0151002517 ndcg=0.805570071774 (0.771635184323)\n",
      "product=0151015392 ndcg=0.804616795271 (0.615868047683)\n",
      "product=0151836000 ndcg=0.805140279882 (0.909313717624)\n",
      "product=0151957479 ndcg=0.805124721388 (0.8020130226)\n",
      "product=0152058265 ndcg=0.805348795155 (0.850387622141)\n",
      "product=0156029987 ndcg=0.805324959756 (0.800510209217)\n",
      "product=0156031442 ndcg=0.805808280877 (0.903922468444)\n",
      "product=0156031566 ndcg=0.80540459355 (0.723052378871)\n",
      "product=015603297X ndcg=0.805651624724 (0.856293015387)\n",
      "product=0195151747 ndcg=0.805373508264 (0.748081517504)\n",
      "product=0195173384 ndcg=0.806023760632 (0.940626000766)\n",
      "product=0195181409 ndcg=0.805590740629 (0.715522579997)\n",
      "product=0195324870 ndcg=0.80515949042 (0.715028196803)\n",
      "product=0198326769 ndcg=0.804993547689 (0.770145574228)\n",
      "product=0199919755 ndcg=0.805771438615 (0.969906423896)\n",
      "product=0201835959 ndcg=0.806021631121 (0.859062442499)\n",
      "product=0224081411 ndcg=0.805838141536 (0.766754859831)\n",
      "product=0226763749 ndcg=0.805120593556 (0.651565325801)\n",
      "product=0230014801 ndcg=0.805302807095 (0.844478718031)\n",
      "product=0231139624 ndcg=0.805439566405 (0.834979577401)\n",
      "product=0241951615 ndcg=0.805404575547 (0.797811559289)\n",
      "product=026216180X ndcg=0.805337081304 (0.790623336361)\n",
      "product=0297825038 ndcg=0.804913042751 (0.712048599652)\n",
      "product=0300137540 ndcg=0.804297558862 (0.668891103323)\n",
      "product=0306817500 ndcg=0.804330968522 (0.811714503311)\n",
      "product=0307263118 ndcg=0.804872893382 (0.925180212274)\n",
      "product=0307264882 ndcg=0.804809896756 (0.790761649195)\n",
      "product=0307266745 ndcg=0.804985253793 (0.844265230052)\n",
      "product=0307267679 ndcg=0.805263464479 (0.867860869005)\n",
      "product=030727070X ndcg=0.805547501236 (0.869739808196)\n",
      "product=0307277747 ndcg=0.80582789029 (0.869476205567)\n",
      "product=030727859X ndcg=0.805170727158 (0.655337533008)\n",
      "product=0307278832 ndcg=0.805591148349 (0.901867601211)\n",
      "product=0307279863 ndcg=0.80428894105 (0.504781262103)\n",
      "product=0307291146 ndcg=0.8048750725 (0.940271437456)\n",
      "product=0307291448 ndcg=0.805272821308 (0.89755054481)\n",
      "product=0307336131 ndcg=0.805757867768 (0.918773693025)\n",
      "product=0307338185 ndcg=0.805999799572 (0.862611841727)\n",
      "product=030733855X ndcg=0.806625596354 (0.953687840138)\n",
      "product=0307352145 ndcg=0.80694388569 (0.882060168967)\n",
      "product=0307354199 ndcg=0.807603889379 (0.964024763661)\n",
      "product=0307381463 ndcg=0.808044153209 (0.912826944685)\n",
      "product=0307387135 ndcg=0.80831940966 (0.87410570156)\n",
      "product=0307394867 ndcg=0.808243759953 (0.790087830175)\n",
      "product=0307395987 ndcg=0.808386710812 (0.842837867785)\n",
      "product=0307452417 ndcg=0.808695356399 (0.883387588639)\n",
      "product=0307453375 ndcg=0.80899077447 (0.880777365689)\n",
      "product=0307453421 ndcg=0.80854364251 (0.699443444185)\n",
      "product=0307455173 ndcg=0.808341738654 (0.758875293865)\n",
      "product=0307456293 ndcg=0.808833922549 (0.929911160785)\n",
      "product=0307460983 ndcg=0.808822319836 (0.805956449749)\n",
      "product=0307474712 ndcg=0.808763530316 (0.79418372938)\n",
      "product=0307476332 ndcg=0.809181563862 (0.913271916797)\n",
      "product=0307593967 ndcg=0.808699074233 (0.688076667046)\n",
      "product=0307597059 ndcg=0.808553925757 (0.77212165816)\n",
      "product=0307700666 ndcg=0.809276490138 (0.991362714293)\n",
      "product=0307713547 ndcg=0.809614830286 (0.895214887725)\n",
      "product=0307715159 ndcg=0.809771475613 (0.849559388503)\n",
      "product=0307717097 ndcg=0.809766039564 (0.808379847103)\n",
      "product=0307719219 ndcg=0.810055223949 (0.884086426612)\n",
      "product=0307719936 ndcg=0.809864712881 (0.76090336824)\n",
      "product=0307720454 ndcg=0.809409146682 (0.691873067436)\n",
      "product=0307731715 ndcg=0.808741263654 (0.635759559468)\n",
      "product=0307739538 ndcg=0.808467564591 (0.737305808054)\n",
      "product=0307740803 ndcg=0.807614643437 (0.585002222458)\n",
      "product=0307743659 ndcg=0.80728612043 (0.721213092411)\n",
      "product=0307743675 ndcg=0.806805407962 (0.680378028883)\n",
      "product=0307743683 ndcg=0.806042155057 (0.604543388285)\n",
      "product=0307744434 ndcg=0.80562166599 (0.694192063025)\n",
      "product=030788743X ndcg=0.805922920557 (0.886056635397)\n",
      "product=0307917371 ndcg=0.805819702537 (0.778260491344)\n",
      "product=0307950174 ndcg=0.805682475703 (0.768905684256)\n",
      "product=0310234697 ndcg=0.805102731514 (0.649151544536)\n",
      "product=0310289025 ndcg=0.804565811603 (0.659597435729)\n",
      "product=0310318653 ndcg=0.805126864887 (0.95717230475)\n",
      "product=0310320313 ndcg=0.805046732217 (0.783250645927)\n",
      "product=0310575729 ndcg=0.80499290451 (0.790297940702)\n",
      "product=0312010443 ndcg=0.805381838992 (0.911949886899)\n",
      "product=0312095511 ndcg=0.806046862327 (0.988928279504)\n",
      "product=0312203438 ndcg=0.80596714544 (0.783965284724)\n",
      "product=0312204078 ndcg=0.805495270131 (0.674785809513)\n",
      "product=0312209045 ndcg=0.805607226847 (0.836731193899)\n",
      "product=0312252943 ndcg=0.804937745462 (0.618152439067)\n",
      "product=0312262515 ndcg=0.805078641798 (0.844529615661)\n",
      "product=0312275420 ndcg=0.804346182097 (0.598525006261)\n",
      "product=0312278586 ndcg=0.80390949992 (0.680765125907)\n",
      "product=0312282990 ndcg=0.804315196604 (0.919127358099)\n",
      "product=0312315600 ndcg=0.804679538704 (0.908152695235)\n",
      "product=0312315716 ndcg=0.804790690185 (0.836468862309)\n",
      "product=0312319142 ndcg=0.804298330556 (0.663483476602)\n",
      "product=0312331460 ndcg=0.804164660357 (0.76580131318)\n",
      "product=0312348649 ndcg=0.804051771786 (0.771539863547)\n",
      "product=0312349491 ndcg=0.804313737663 (0.880021875889)\n",
      "product=0312351623 ndcg=0.804465866843 (0.848583329281)\n",
      "product=0312358342 ndcg=0.804991680576 (0.958003476785)\n",
      "product=0312359322 ndcg=0.804817405372 (0.75392904576)\n",
      "product=0312360037 ndcg=0.804925260528 (0.836526821236)\n",
      "product=0312367546 ndcg=0.804622619842 (0.715646258215)\n",
      "product=031236847X ndcg=0.804105774115 (0.651636284531)\n",
      "product=0312377045 ndcg=0.804492790438 (0.919049622079)\n",
      "product=0312387970 ndcg=0.804302627555 (0.747824251373)\n",
      "product=0312423586 ndcg=0.804441455749 (0.845812257661)\n",
      "product=0312423810 ndcg=0.804687855425 (0.878361358545)\n",
      "product=0312426437 ndcg=0.804343900504 (0.701157424146)\n",
      "product=0312427085 ndcg=0.804467178798 (0.841573945278)\n",
      "product=0312427743 ndcg=0.804236960051 (0.734710898276)\n",
      "product=0312429215 ndcg=0.804456487273 (0.870973235518)\n",
      "product=0312446470 ndcg=0.804570161577 (0.839127150141)\n",
      "product=031255513X ndcg=0.804537959223 (0.794716241361)\n",
      "product=0312569378 ndcg=0.804873224213 (0.907464311055)\n",
      "product=031257357X ndcg=0.804360038068 (0.646811891654)\n",
      "product=0312583729 ndcg=0.804251370629 (0.770781799157)\n",
      "product=0312609809 ndcg=0.804174996663 (0.780575441252)\n",
      "product=0312853238 ndcg=0.804099176421 (0.780594901546)\n",
      "product=0312863551 ndcg=0.804169451299 (0.8260249382)\n",
      "product=0312867123 ndcg=0.803783660954 (0.683417073294)\n",
      "product=0312876513 ndcg=0.803748637825 (0.792786398588)\n",
      "product=0312947054 ndcg=0.80371291526 (0.792496029851)\n",
      "product=0312949804 ndcg=0.803785938965 (0.826788405873)\n",
      "product=0316003360 ndcg=0.803977272456 (0.864438655842)\n",
      "product=0316006963 ndcg=0.804002525489 (0.812007736858)\n",
      "product=0316008079 ndcg=0.804263677237 (0.887309933028)\n",
      "product=0316008958 ndcg=0.804529115374 (0.889203881046)\n",
      "product=0316010790 ndcg=0.804197841887 (0.698190326148)\n",
      "product=0316013315 ndcg=0.804526825768 (0.910130651623)\n",
      "product=0316013684 ndcg=0.804730557757 (0.870332258128)\n",
      "product=0316013943 ndcg=0.804237451472 (0.644964121282)\n",
      "product=031601477X ndcg=0.804225774426 (0.800442411512)\n",
      "product=0316032190 ndcg=0.80392091637 (0.704842048396)\n",
      "product=0316034010 ndcg=0.803798393604 (0.763855971734)\n",
      "product=031603438X ndcg=0.803887729906 (0.833100700801)\n",
      "product=0316056863 ndcg=0.802768383184 (0.435622658298)\n",
      "product=0316058858 ndcg=0.802683243838 (0.774672399068)\n",
      "product=0316066737 ndcg=0.803088005308 (0.936659290288)\n",
      "product=0316067148 ndcg=0.803116562731 (0.812569069667)\n",
      "product=0316067598 ndcg=0.803145761817 (0.812839858413)\n",
      "product=0316096199 ndcg=0.803214994115 (0.826269349476)\n",
      "product=0316097446 ndcg=0.802578128861 (0.589865134114)\n",
      "product=0316105848 ndcg=0.80267848804 (0.836298813062)\n",
      "product=0316154059 ndcg=0.802742306473 (0.824185299777)\n",
      "product=0316154067 ndcg=0.802507670339 (0.723435293059)\n",
      "product=0316155306 ndcg=0.802656392991 (0.852924649517)\n",
      "product=0316159417 ndcg=0.803087310852 (0.949168465853)\n",
      "product=031615976X ndcg=0.802854726661 (0.723776101623)\n",
      "product=0316159794 ndcg=0.802595458149 (0.714184895476)\n",
      "product=0316166316 ndcg=0.802490374279 (0.76655169064)\n",
      "product=0316168688 ndcg=0.802645868678 (0.855980447532)\n",
      "product=0316175668 ndcg=0.802991117793 (0.921756813609)\n",
      "product=0316176486 ndcg=0.80318123329 (0.868771079802)\n",
      "product=0316182540 ndcg=0.803461383311 (0.900393290466)\n",
      "product=0316210919 ndcg=0.803843460354 (0.936424194272)\n",
      "product=0316221902 ndcg=0.803927130305 (0.833044273317)\n",
      "product=0316296198 ndcg=0.804329442345 (0.944736344341)\n",
      "product=0316359556 ndcg=0.804059726489 (0.709659176782)\n",
      "product=0316404152 ndcg=0.803889850088 (0.744263233223)\n",
      "product=0316710628 ndcg=0.804171997245 (0.903487796474)\n",
      "product=0316735655 ndcg=0.803792112371 (0.669692751941)\n",
      "product=0316777730 ndcg=0.803245694645 (0.609813819656)\n",
      "product=0316969443 ndcg=0.803418821369 (0.864878808467)\n",
      "product=0340712279 ndcg=0.803586498374 (0.863279512121)\n",
      "product=0340822538 ndcg=0.804020289277 (0.958883641667)\n",
      "product=0340839937 ndcg=0.80351306134 (0.621925459737)\n",
      "product=0340840161 ndcg=0.803511964075 (0.803118046026)\n",
      "product=0340935235 ndcg=0.803705152232 (0.873252888869)\n",
      "product=0340953950 ndcg=0.803885107037 (0.868848791597)\n",
      "product=0345337581 ndcg=0.804198976355 (0.917819669318)\n",
      "product=0345337662 ndcg=0.803900587217 (0.695585330203)\n",
      "product=0345339703 ndcg=0.803475810736 (0.648857171802)\n",
      "product=0345387651 ndcg=0.803637252236 (0.862563399524)\n",
      "product=0345413369 ndcg=0.803610113734 (0.793677421955)\n",
      "product=0345420748 ndcg=0.803851328927 (0.892377304831)\n",
      "product=0345424719 ndcg=0.803800331669 (0.785033340685)\n",
      "product=0345438329 ndcg=0.804153208996 (0.934364942862)\n",
      "product=0345438825 ndcg=0.804401211035 (0.896161965518)\n",
      "product=0345439104 ndcg=0.804500656167 (0.841394799994)\n",
      "product=0345440331 ndcg=0.804574836577 (0.832169949042)\n",
      "product=0345440757 ndcg=0.804847378159 (0.9065053884)\n",
      "product=0345440773 ndcg=0.804979193906 (0.854278283288)\n",
      "product=0345441036 ndcg=0.805264864763 (0.912391436104)\n",
      "product=0345443020 ndcg=0.805327445831 (0.82885792734)\n",
      "product=0345446666 ndcg=0.805535320279 (0.883903987111)\n",
      "product=034544678X ndcg=0.805994518296 (0.979571368586)\n",
      "product=0345446860 ndcg=0.806330845934 (0.933799021042)\n",
      "product=0345457684 ndcg=0.806493383753 (0.868257755026)\n",
      "product=0345472403 ndcg=0.806590933362 (0.843757334231)\n",
      "product=0345476158 ndcg=0.806631855011 (0.822263924713)\n",
      "product=0345477170 ndcg=0.806460801381 (0.740947261361)\n",
      "product=0345481038 ndcg=0.806347338707 (0.76277767187)\n",
      "product=0345481283 ndcg=0.806080421375 (0.703317248504)\n",
      "product=0345486587 ndcg=0.806254356929 (0.87339348063)\n",
      "product=034549038X ndcg=0.806232357999 (0.797718772366)\n",
      "product=034549458X ndcg=0.806481862963 (0.903289788786)\n",
      "product=0345501748 ndcg=0.806173352696 (0.686162858983)\n",
      "product=0345503821 ndcg=0.805463552865 (0.528641618695)\n",
      "product=0345504968 ndcg=0.805254320735 (0.723444558056)\n",
      "product=0345519477 ndcg=0.804974347971 (0.695225024307)\n",
      "product=034552361X ndcg=0.805154924514 (0.876121506108)\n",
      "product=0345532015 ndcg=0.805062064577 (0.768475249318)\n",
      "product=034553302X ndcg=0.804932958097 (0.753935898464)\n",
      "product=0345533429 ndcg=0.804262258309 (0.538665142232)\n",
      "product=0345533666 ndcg=0.803989263656 (0.695610386554)\n",
      "product=0345534557 ndcg=0.803910400738 (0.772522959179)\n",
      "product=0345539788 ndcg=0.80372900731 (0.731353029597)\n",
      "product=0345542886 ndcg=0.803639870343 (0.767985083524)\n",
      "product=0345547497 ndcg=0.80384567783 (0.886374480132)\n",
      "product=0345803450 ndcg=0.804018036196 (0.873306099234)\n",
      "product=0345803493 ndcg=0.804012690584 (0.801858409049)\n",
      "product=0345803507 ndcg=0.803853394515 (0.739497782487)\n",
      "product=034581360X ndcg=0.803906006187 (0.825213733412)\n",
      "product=0349113343 ndcg=0.804106570203 (0.885535560749)\n",
      "product=0373210345 ndcg=0.804354612071 (0.905307652493)\n",
      "product=0373772467 ndcg=0.804516817538 (0.870696648042)\n",
      "product=0373778597 ndcg=0.804993605788 (1.0)\n",
      "product=0373892713 ndcg=0.805068916135 (0.835946158351)\n",
      "product=0374173958 ndcg=0.804954245278 (0.757824523095)\n",
      "product=0374270325 ndcg=0.804889721031 (0.778305731216)\n",
      "product=0374275637 ndcg=0.805139714167 (0.908386879129)\n",
      "product=0375400524 ndcg=0.805373326189 (0.902088703354)\n",
      "product=0375401466 ndcg=0.80525148256 (0.754686376563)\n",
      "product=0375402314 ndcg=0.805330803216 (0.838328196097)\n",
      "product=0375405976 ndcg=0.805182152233 (0.743194692433)\n",
      "product=0375406425 ndcg=0.805468694395 (0.925243318135)\n",
      "product=0375407707 ndcg=0.805731537546 (0.91586281779)\n",
      "product=0375408908 ndcg=0.80542264837 (0.675689194434)\n",
      "product=0375410538 ndcg=0.805267596104 (0.739990592073)\n",
      "product=0375411089 ndcg=0.805387136001 (0.855832972661)\n",
      "product=0375412824 ndcg=0.805591376941 (0.891985294556)\n",
      "product=0375413170 ndcg=0.805886458924 (0.931001219817)\n",
      "product=0375421459 ndcg=0.806008507623 (0.857879204597)\n",
      "product=0375423745 ndcg=0.805912142086 (0.764860423314)\n",
      "product=0375432183 ndcg=0.805256068683 (0.525112725372)\n",
      "product=0375432957 ndcg=0.805376830314 (0.857062808523)\n",
      "product=0375434305 ndcg=0.805169791815 (0.716350275936)\n",
      "product=0375434313 ndcg=0.805435243951 (0.919579662329)\n",
      "product=0375501290 ndcg=0.805667190829 (0.905636295351)\n",
      "product=0375501568 ndcg=0.805862465715 (0.890221216435)\n",
      "product=0375506713 ndcg=0.805907780211 (0.825528956879)\n",
      "product=0375507108 ndcg=0.80567487477 (0.704593913191)\n",
      "product=0375507523 ndcg=0.805988312444 (0.942333700803)\n",
      "product=0375701427 ndcg=0.805750216947 (0.701940580224)\n",
      "product=0375714499 ndcg=0.80557037748 (0.726980530307)\n",
      "product=0375724834 ndcg=0.805706297223 (0.865239144945)\n",
      "product=0375752250 ndcg=0.805914604552 (0.897361521903)\n",
      "product=0375752285 ndcg=0.806219853321 (0.940529311708)\n",
      "product=0375758232 ndcg=0.805799104127 (0.620248709669)\n",
      "product=0380005239 ndcg=0.805547239795 (0.694223204664)\n",
      "product=0380603926 ndcg=0.805270388435 (0.682625236178)\n",
      "product=0380713004 ndcg=0.805607899953 (0.955463013741)\n",
      "product=0380719185 ndcg=0.805756681378 (0.87196441549)\n",
      "product=0380761327 ndcg=0.805973944689 (0.902873381445)\n",
      "product=038077352X ndcg=0.805813740675 (0.734202546502)\n",
      "product=0380800829 ndcg=0.806009457797 (0.893690728639)\n",
      "product=0380809060 ndcg=0.805971435744 (0.788899533888)\n",
      "product=0380817934 ndcg=0.805769473903 (0.714886645425)\n",
      "product=0385015364 ndcg=0.806030545879 (0.923774006806)\n",
      "product=0385265700 ndcg=0.80610277375 (0.838749771684)\n",
      "product=0385302312 ndcg=0.806351586035 (0.919063551022)\n",
      "product=0385315546 ndcg=0.806738118209 (0.982223725143)\n",
      "product=0385323816 ndcg=0.806985428675 (0.919511690904)\n",
      "product=0385339143 ndcg=0.807090698333 (0.855093662169)\n",
      "product=0385340559 ndcg=0.807365983872 (0.933171475324)\n",
      "product=0385340850 ndcg=0.807280116066 (0.767952660971)\n",
      "product=0385340990 ndcg=0.807194015171 (0.767673704345)\n",
      "product=0385341636 ndcg=0.807168725508 (0.795535480324)\n"
     ]
    }
   ],
   "source": [
    "def helpf(x):\n",
    "    x = str(x['helpful']) \n",
    "    try:\n",
    "        pos = x.replace(\"[\",\"\").replace(\"]\",\"\").split(',')[0]\n",
    "        neg = x.replace(\"[\",\"\").replace(\"]\",\"\").split(',')[1]\n",
    "        tot = x.replace(\"[\",\"\").replace(\"]\",\"\").split(',')[1]\n",
    "        return float ( float(pos) /  float(tot) )\n",
    "    except:\n",
    "        return 0\n",
    "\n",
    "def tot(x): \n",
    "    x = str(x['helpful'])\n",
    "    #print x.replace(\"[\",\"\").replace(\"]\",\"\").split(',')[1]\n",
    "    try:\n",
    "        return int(x.replace(\"[\",\"\").replace(\"]\",\"\").split(', ')[1])\n",
    "    except:\n",
    "        return 0\n",
    "\n",
    "\n",
    "\n",
    "reviews_features['helpfulness']=reviews_features.apply(helpf,axis=1)\n",
    "reviews_features['tot']=reviews_features.apply(tot,axis=1)\n",
    "\n",
    "reviews_features,ndcg_mhr = mhr.executeFromDf(reviews_features)"
   ]
  },
  {
   "cell_type": "code",
   "execution_count": 14,
   "metadata": {
    "collapsed": false,
    "scrolled": true
   },
   "outputs": [
    {
     "data": {
      "text/plain": [
       "0.80716872550762186"
      ]
     },
     "execution_count": 14,
     "metadata": {},
     "output_type": "execute_result"
    }
   ],
   "source": [
    "np.mean(ndcg_mhrs)"
   ]
  },
  {
   "cell_type": "code",
   "execution_count": 7,
   "metadata": {
    "collapsed": false,
    "scrolled": true
   },
   "outputs": [
    {
     "name": "stderr",
     "output_type": "stream",
     "text": [
      "/Library/Python/2.7/site-packages/IPython/html.py:14: ShimWarning: The `IPython.html` package has been deprecated. You should import from `notebook` instead. `IPython.html.widgets` has moved to `ipywidgets`.\n",
      "  \"`IPython.html.widgets` has moved to `ipywidgets`.\", ShimWarning)\n",
      "/Library/Python/2.7/site-packages/numpy/lib/function_base.py:2487: RuntimeWarning: Degrees of freedom <= 0 for slice\n",
      "  warnings.warn(\"Degrees of freedom <= 0 for slice\", RuntimeWarning)\n"
     ]
    },
    {
     "name": "stdout",
     "output_type": "stream",
     "text": [
      "pr_hs_len ndcg=0.77131406432\n",
      "MHR ndcg=0.764850370217\n",
      "RevRank ndcg=0.687225066461\n",
      "461\n",
      "461\n",
      "461\n"
     ]
    },
    {
     "data": {
      "text/plain": [
       "<matplotlib.text.Text at 0x10c1be890>"
      ]
     },
     "execution_count": 7,
     "metadata": {},
     "output_type": "execute_result"
    },
    {
     "data": {
      "image/png": "[encoded data removed]",
      "text/plain": [
       "<matplotlib.figure.Figure at 0x10c16b390>"
      ]
     },
     "metadata": {},
     "output_type": "display_data"
    }
   ],
   "source": [
    "import seaborn as sns\n",
    "k=5\n",
    "\n",
    "ndcg_pr_hs_len=ndcg.calc_ndcg(reviews_features,'pr_hs_len',k) \n",
    "corr_pr_hs_len=ndcg.calc_corr(reviews_features,'pr_hs_len') \n",
    "print (\"pr_hs_len ndcg=\"+str(np.mean(ndcg_pr_hs_len)))\n",
    "\n",
    "#ndcg_mhr=ndcg.calc_ndcg(reviews_features,'powerWithStar',k) \n",
    "corr_mhr=ndcg.calc_corr(reviews_features,'powerWithStar') \n",
    "print (\"MHR ndcg=\"+str(np.mean(ndcg_mhr)))\n",
    "\n",
    "ndcg_revRank=ndcg.calc_ndcg(reviews_features,'revRank',k) \n",
    "corr_revRank=ndcg.calc_corr(reviews_features,'revRank') \n",
    "print (\"RevRank ndcg=\"+str(np.mean(ndcg_revRank)))\n",
    "\n",
    "print (len(ndcg_pr_hs_len))\n",
    "print (len(ndcg_mhr))\n",
    "print (len(ndcg_revRank))\n",
    "\n",
    "tip={}\n",
    "tip['PR_HS_LEN']=ndcg_pr_hs_len\n",
    "tip['MHR']=ndcg_mhr\n",
    "tip['REVRANK']=ndcg_revRank\n",
    "df = pd.DataFrame(tip)\n",
    "ax = sns.boxplot(data=df)\n",
    "#ax = sns.swarmplot(data=df, color=\".25\")\n",
    "ax.set_title('NDCG@'+str(k))"
   ]
  },
  {
   "cell_type": "code",
   "execution_count": 25,
   "metadata": {
    "collapsed": false
   },
   "outputs": [
    {
     "name": "stdout",
     "output_type": "stream",
     "text": [
      "pr_hs_len ndcg 1=0.726896292723\n",
      "pr_hs_len ndcg 3=0.756294836225\n",
      "pr_hs_len ndcg 5=0.77131406432\n"
     ]
    }
   ],
   "source": [
    "ndcg_pr_hs_len=ndcg.calc_ndcg(reviews_features,'pr_hs_len',1) \n",
    "print (\"pr_hs_len ndcg 1=\"+str(np.mean(ndcg_pr_hs_len)))\n",
    "ndcg_pr_hs_len=ndcg.calc_ndcg(reviews_features,'pr_hs_len',3) \n",
    "print (\"pr_hs_len ndcg 3=\"+str(np.mean(ndcg_pr_hs_len)))\n",
    "ndcg_pr_hs_len=ndcg.calc_ndcg(reviews_features,'pr_hs_len',5) \n",
    "print (\"pr_hs_len ndcg 5=\"+str(np.mean(ndcg_pr_hs_len)))"
   ]
  },
  {
   "cell_type": "code",
   "execution_count": 26,
   "metadata": {
    "collapsed": false
   },
   "outputs": [
    {
     "name": "stdout",
     "output_type": "stream",
     "text": [
      "revRank ndcg 1=0.66052590951\n",
      "revRank ndcg 3=0.681738097775\n",
      "revRank ndcg 5=0.687225066461\n"
     ]
    }
   ],
   "source": [
    "ndcg_revRank=ndcg.calc_ndcg(reviews_features,'revRank',1) \n",
    "print (\"revRank ndcg 1=\"+str(np.mean(ndcg_revRank)))\n",
    "ndcg_revRank=ndcg.calc_ndcg(reviews_features,'revRank',3) \n",
    "print (\"revRank ndcg 3=\"+str(np.mean(ndcg_revRank)))\n",
    "ndcg_revRank=ndcg.calc_ndcg(reviews_features,'revRank',5) \n",
    "print (\"revRank ndcg 5=\"+str(np.mean(ndcg_revRank)))"
   ]
  },
  {
   "cell_type": "code",
   "execution_count": 27,
   "metadata": {
    "collapsed": false
   },
   "outputs": [
    {
     "name": "stdout",
     "output_type": "stream",
     "text": [
      "MHR ndcg 1=0.756376488673\n",
      "MHR ndcg 3=0.758378765297\n",
      "MHR ndcg 5=0.764850370217\n"
     ]
    }
   ],
   "source": [
    "ndcg_pr_hs_len=ndcg.calc_ndcg(reviews_features,'powerWithStar',1) \n",
    "print (\"MHR ndcg 1=\"+str(np.mean(ndcg_pr_hs_len)))\n",
    "ndcg_pr_hs_len=ndcg.calc_ndcg(reviews_features,'powerWithStar',3) \n",
    "print (\"MHR ndcg 3=\"+str(np.mean(ndcg_pr_hs_len)))\n",
    "ndcg_pr_hs_len=ndcg.calc_ndcg(reviews_features,'powerWithStar',5) \n",
    "print (\"MHR ndcg 5=\"+str(np.mean(ndcg_pr_hs_len)))"
   ]
  },
  {
   "cell_type": "code",
   "execution_count": 16,
   "metadata": {
    "collapsed": false
   },
   "outputs": [
    {
     "data": {
      "text/plain": [
       "[None, None, None, None, None, None, None, None, None, None, None, None]"
      ]
     },
     "execution_count": 16,
     "metadata": {},
     "output_type": "execute_result"
    },
    {
     "data": {
      "image/png": "[encoded data removed]",
      "text/plain": [
       "<matplotlib.figure.Figure at 0x1039eef50>"
      ]
     },
     "metadata": {},
     "output_type": "display_data"
    }
   ],
   "source": [
    "import matplotlib as mpl\n",
    "mpl.rcParams.update(mpl.rcParamsDefault)\n",
    "import matplotlib.pyplot as plt \n",
    "%matplotlib inline\n",
    "data_to_plot = [ndcg_revRank, ndcg_pr_hs_len, ndcg_mhr]\n",
    "\n",
    "\n",
    "bp = plt.boxplot(data_to_plot, labels=[\"REVRANK\",\"PR_HS_LEN\",\"MRR\"], sym='')\n",
    "plt.setp(bp['boxes'], linewidth=1, color='black')\n",
    "plt.setp(bp['fliers'], linewidth=1, color='black')\n",
    "plt.setp(bp['medians'], linewidth=1, color='black')\n",
    "plt.setp(bp['whiskers'], linewidth=1, color='black')"
   ]
  },
  {
   "cell_type": "code",
   "execution_count": null,
   "metadata": {
    "collapsed": true
   },
   "outputs": [],
   "source": []
  }
 ],
 "metadata": {
  "kernelspec": {
   "display_name": "Python 2",
   "language": "python",
   "name": "python2"
  },
  "language_info": {
   "codemirror_mode": {
    "name": "ipython",
    "version": 2
   },
   "file_extension": ".py",
   "mimetype": "text/x-python",
   "name": "python",
   "nbconvert_exporter": "python",
   "pygments_lexer": "ipython2",
   "version": "2.7.3"
  }
 },
 "nbformat": 4,
 "nbformat_minor": 1
}
