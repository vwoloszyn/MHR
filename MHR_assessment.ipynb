{
 "cells": [
  {
   "cell_type": "code",
   "execution_count": 1,
   "metadata": {
    "collapsed": false
   },
   "outputs": [],
   "source": [
    "import pandas as pd\n",
    "import numpy as np\n",
    "\n",
    "from sklearn.svm import SVR, LinearSVR\n",
    "from sklearn.grid_search import GridSearchCV\n",
    "from scipy.stats import spearmanr\n",
    "from sklearn.metrics import make_scorer\n",
    "from time import time\n",
    "from sklearn import svm\n",
    "from sklearn import cross_validation\n",
    "\n",
    "import MHR as mhr\n",
    "\n",
    "def simple_spearman(x,y): return np.abs(spearmanr(x,y)[0])\n",
    "spearmanr_scorer = make_scorer(simple_spearman)"
   ]
  },
  {
   "cell_type": "code",
   "execution_count": 47,
   "metadata": {
    "collapsed": false
   },
   "outputs": [],
   "source": [
    "def reload_package(root_module):\n",
    "    package_name = root_module.__name__\n",
    "\n",
    "    # get a reference to each loaded module\n",
    "    loaded_package_modules = dict([\n",
    "        (key, value) for key, value in sys.modules.items() \n",
    "        if key.startswith(package_name) and isinstance(value, types.ModuleType)])\n",
    "\n",
    "    # delete references to these loaded modules from sys.modules\n",
    "    for key in loaded_package_modules:\n",
    "        del sys.modules[key]\n",
    "\n",
    "    # load each of the modules again; \n",
    "    # make old modules share state with new modules\n",
    "    for key in loaded_package_modules:\n",
    "        print 'loading %s' % key\n",
    "        newmodule = __import__(key)\n",
    "        oldmodule = loaded_package_modules[key]\n",
    "        oldmodule.__dict__.clear()\n",
    "        oldmodule.__dict__.update(newmodule.__dict__)\n",
    "        \n",
    "def dcg_at_k(r, k, method=0):\n",
    "    \"\"\"Score is discounted cumulative gain (dcg)\n",
    "    Relevance is positive real values.  Can use binary\n",
    "    as the previous methods.\n",
    "    Example from\n",
    "    http://www.stanford.edu/class/cs276/handouts/EvaluationNew-handout-6-per.pdf\n",
    "    >>> r = [3, 2, 3, 0, 0, 1, 2, 2, 3, 0]\n",
    "    >>> dcg_at_k(r, 1)\n",
    "    3.0\n",
    "    >>> dcg_at_k(r, 1, method=1)\n",
    "    3.0\n",
    "    >>> dcg_at_k(r, 2)\n",
    "    5.0\n",
    "    >>> dcg_at_k(r, 2, method=1)\n",
    "    4.2618595071429155\n",
    "    >>> dcg_at_k(r, 10)\n",
    "    9.6051177391888114\n",
    "    >>> dcg_at_k(r, 11)\n",
    "    9.6051177391888114\n",
    "    Args:\n",
    "        r: Relevance scores (list or numpy) in rank order\n",
    "            (first element is the first item)\n",
    "        k: Number of results to consider\n",
    "        method: If 0 then weights are [1.0, 1.0, 0.6309, 0.5, 0.4307, ...]\n",
    "                If 1 then weights are [1.0, 0.6309, 0.5, 0.4307, ...]\n",
    "    Returns:\n",
    "        Discounted cumulative gain\n",
    "    \"\"\"\n",
    "    r = np.asfarray(r)[:k]\n",
    "    if r.size:\n",
    "        if method == 0:\n",
    "            return r[0] + np.sum(r[1:] / np.log2(np.arange(2, r.size + 1)))\n",
    "        elif method == 1:\n",
    "            return np.sum(r / np.log2(np.arange(2, r.size + 2)))\n",
    "        else:\n",
    "            raise ValueError('method must be 0 or 1.')\n",
    "    return 0.\n",
    "\n",
    "\n",
    "def ndcg_at_k(r, k, method=0):\n",
    "    \"\"\"Score is normalized discounted cumulative gain (ndcg)\n",
    "    Relevance is positive real values.  Can use binary\n",
    "    as the previous methods.\n",
    "    Example from\n",
    "    http://www.stanford.edu/class/cs276/handouts/EvaluationNew-handout-6-per.pdf\n",
    "    >>> r = [3, 2, 3, 0, 0, 1, 2, 2, 3, 0]\n",
    "    >>> ndcg_at_k(r, 1)\n",
    "    1.0\n",
    "    >>> r = [2, 1, 2, 0]\n",
    "    >>> ndcg_at_k(r, 4)\n",
    "    0.9203032077642922\n",
    "    >>> ndcg_at_k(r, 4, method=1)\n",
    "    0.96519546960144276\n",
    "    >>> ndcg_at_k([0], 1)\n",
    "    0.0\n",
    "    >>> ndcg_at_k([1], 2)\n",
    "    1.0\n",
    "    Args:\n",
    "        r: Relevance scores (list or numpy) in rank order\n",
    "            (first element is the first item)\n",
    "        k: Number of results to consider\n",
    "        method: If 0 then weights are [1.0, 1.0, 0.6309, 0.5, 0.4307, ...]\n",
    "                If 1 then weights are [1.0, 0.6309, 0.5, 0.4307, ...]\n",
    "    Returns:\n",
    "        Normalized discounted cumulative gain\n",
    "    \"\"\"\n",
    "    dcg_max = dcg_at_k(sorted(r, reverse=True), k, method)\n",
    "    if not dcg_max:\n",
    "        return 0.\n",
    "    return dcg_at_k(r, k, method) / dcg_max\n",
    "\n",
    "\n",
    "def calc_ndcg(df, column,k):\n",
    "    min_votes=5\n",
    "    min_comments=30\n",
    "\n",
    "    ndcg_global=[]\n",
    "    grouped=df.groupby('asin')\n",
    "\n",
    "    for name, group in grouped:\n",
    "        dffiltro = (df['asin']==name)\n",
    "        \n",
    "        values_test = df[dffiltro]['helpfulness'].T.to_dict().values()\n",
    "        scores = df[dffiltro][column].T.to_dict().values()\n",
    "\n",
    "\n",
    "        ind = (-np.array(scores)).argsort()\n",
    "        a = np.array(values_test)[ind]\t\n",
    "        ndcg = ndcg_at_k(a, k)\n",
    "        ndcg_global.append(ndcg)\n",
    "    return ndcg_global\n",
    "\n",
    "def calc_ndcg_mean(df, column,k):\n",
    "    x = calc_ndcg(df,column,k)\n",
    "    return np.mean(x)\n",
    "\n",
    "def calc_corr(df, column):\n",
    "    correlation=[]\n",
    "    grouped=df.groupby('asin')\n",
    "\n",
    "    for name, group in grouped:\n",
    "        dffiltro = (df['asin']==name)\n",
    "        \n",
    "        helpfulness = df[dffiltro]['helpfulness'].T.to_dict().values()\n",
    "        scores = df[dffiltro][column].T.to_dict().values()\n",
    "        correlation.append(np.corrcoef(helpfulness,scores)[0][1])\n",
    "    return correlation"
   ]
  },
  {
   "cell_type": "code",
   "execution_count": 3,
   "metadata": {
    "collapsed": false
   },
   "outputs": [
    {
     "data": {
      "text/plain": [
       "(19756, 19)"
      ]
     },
     "execution_count": 3,
     "metadata": {},
     "output_type": "execute_result"
    }
   ],
   "source": [
    "reviews_features = pd.read_csv('data/eletronic_sample_counts.csv.gz')\n",
    "reviews_features.shape"
   ]
  },
  {
   "cell_type": "code",
   "execution_count": 4,
   "metadata": {
    "collapsed": false
   },
   "outputs": [
    {
     "data": {
      "text/plain": [
       "Index([u'Unnamed: 0', u'Unnamed: 0.1', u'asin', u'helpful', u'overall',\n",
       "       u'reviewText', u'reviewTime', u'reviewerID', u'reviewerName',\n",
       "       u'summary', u'unixReviewTime', u'helpfulness', u'tot', u'word_count',\n",
       "       u'sentence_count', u'unigram_count', u'pos_tag', u'adj', u'noun'],\n",
       "      dtype='object')"
      ]
     },
     "execution_count": 4,
     "metadata": {},
     "output_type": "execute_result"
    }
   ],
   "source": [
    "reviews_features.columns"
   ]
  },
  {
   "cell_type": "code",
   "execution_count": 5,
   "metadata": {
    "collapsed": false
   },
   "outputs": [
    {
     "data": {
      "text/plain": [
       "Index([u'Unnamed: 0', u'Unnamed: 0.1', u'overall', u'unixReviewTime',\n",
       "       u'helpfulness', u'tot', u'word_count', u'sentence_count',\n",
       "       u'unigram_count', u'adj', u'noun'],\n",
       "      dtype='object')"
      ]
     },
     "execution_count": 5,
     "metadata": {},
     "output_type": "execute_result"
    }
   ],
   "source": [
    "df_columns = reviews_features.select_dtypes(include=['float64','int','int64']).columns\n",
    "df_columns"
   ]
  },
  {
   "cell_type": "code",
   "execution_count": 19,
   "metadata": {
    "collapsed": false
   },
   "outputs": [
    {
     "name": "stdout",
     "output_type": "stream",
     "text": [
      "ndcg at fold 0 = 0.656641973247\n",
      "ndcg at fold 1 = 0.69292352431\n",
      "ndcg at fold 2 = 0.640305014261\n",
      "ndcg at fold 3 = 0.666428558281\n",
      "ndcg at fold 4 = 0.64911469342\n",
      "ndcg at fold 5 = 0.679759350434\n",
      "ndcg at fold 6 = 0.641161387768\n",
      "ndcg at fold 7 = 0.665532452184\n",
      "ndcg at fold 8 = 0.593408602443\n",
      "ndcg at fold 9 = 0.671172961415\n"
     ]
    },
    {
     "name": "stderr",
     "output_type": "stream",
     "text": [
      "/Library/Frameworks/Python.framework/Versions/2.7/lib/python2.7/site-packages/ipykernel/__main__.py:29: SettingWithCopyWarning: \n",
      "A value is trying to be set on a copy of a slice from a DataFrame.\n",
      "Try using .loc[row_indexer,col_indexer] = value instead\n",
      "\n",
      "See the caveats in the documentation: http://pandas.pydata.org/pandas-docs/stable/indexing.html#indexing-view-versus-copy\n"
     ]
    }
   ],
   "source": [
    "#CROSVALIDATION BY PRODUCTION\n",
    "clf = svm.SVR(epsilon=0.001)\n",
    "\n",
    "\n",
    "products=[]\n",
    "ndcg=[]\n",
    "ind=0\n",
    "bestSVMPrediction=pd.DataFrame()\n",
    "max_ndcg=0\n",
    "for name, group in reviews_features.groupby('asin'):\n",
    "    products.append(name)\n",
    "len(products)\n",
    "\n",
    "rs = cross_validation.ShuffleSplit(len(products), n_iter=10, test_size=.1 , random_state=0)\n",
    "for train_index, test_index in rs:\n",
    "    dffilter_train = (reviews_features['asin'].isin(np.array(products)[train_index])) \n",
    "    dffilter_test = (reviews_features['asin'].isin(np.array(products)[test_index]))\n",
    "    #train\n",
    "    features_train = reviews_features[dffilter_train][list(['word_count','sentence_count','unigram_count','adj','noun'])].values\n",
    "    labels_train = reviews_features[dffilter_train][\"helpfulness\"].values\n",
    "    clf.fit(features_train, labels_train)\n",
    "    \n",
    "    #test\n",
    "    features_test = reviews_features[dffilter_test][list(['word_count','sentence_count','unigram_count','adj','noun'])].values\n",
    "    labels_test = reviews_features[dffilter_test][\"helpfulness\"].values\n",
    "    x=clf.predict(features_test)\n",
    "    \n",
    "    dfTest= reviews_features[dffilter_test]\n",
    "    dfTest['svm']=x\n",
    "    local_ndcg = calc_ndcg_mean(dfTest,'svm',5)\n",
    "    ndcg.append(local_ndcg)\n",
    "    print \"ndcg at fold \"+str(ind)+\" = \"+ str(local_ndcg) \n",
    "    \n",
    "    if (local_ndcg>max_ndcg):\n",
    "        bestSVMPrediction=dfTest\n",
    "    \n",
    "    ind=ind+1\n",
    "    "
   ]
  },
  {
   "cell_type": "code",
   "execution_count": null,
   "metadata": {
    "collapsed": false
   },
   "outputs": [],
   "source": [
    "#CROSVALIDATION BY COMMENTS\n",
    "clf = svm.SVR(epsilon=0.001)\n",
    "\n",
    "\n",
    "rs = cross_validation.ShuffleSplit(len(reviews_features), n_iter=10, test_size=.2 , random_state=0)\n",
    "ind=0\n",
    "ndcg=[]\n",
    "for train_index, test_index in rs:\n",
    "    #train\n",
    "    features_train = reviews_features.ix[train_index][list(['word_count','sentence_count','unigram_count','adj','noun'])].values\n",
    "    labels_train = reviews_features.ix[train_index][\"helpfulness\"].values\n",
    "    clf.fit(features_train, labels_train)\n",
    "    \n",
    "    #test\n",
    "    features_test = reviews_features.ix[test_index][list(['word_count','sentence_count','unigram_count','adj','noun'])].values\n",
    "    labels_test = reviews_features.ix[test_index][\"helpfulness\"].values\n",
    "    x=clf.predict(features_test)\n",
    "    \n",
    "    dfTest= reviews_features.ix[test_index]\n",
    "    dfTest['svm']=x\n",
    "    local_ndcg = calc_ndcg(dfTest,'svm',5)\n",
    "    ndcg.append(local_ndcg)\n",
    "    print \"ndcg at fold \"+str(ind)+\" = \"+ str(local_ndcg)\n",
    "    \n",
    "    ind=ind+1\n"
   ]
  },
  {
   "cell_type": "code",
   "execution_count": 20,
   "metadata": {
    "collapsed": false
   },
   "outputs": [
    {
     "name": "stdout",
     "output_type": "stream",
     "text": [
      "fold 1\n",
      "1940\n"
     ]
    }
   ],
   "source": [
    "print \"fold \" + str(np.argmax(ndcg)) \n",
    "count=0\n",
    "for train_index, test_index in rs:\n",
    "    if (count==int(np.argmax(ndcg))):\n",
    "        \n",
    "        #df=reviews_features.ix[test_index]\n",
    "        df=reviews_features[reviews_features['asin'].isin(np.array(products)[test_index])]\n",
    "        \n",
    "        print (len(df))\n",
    "        x=mhr.executeFromDf(df)\n",
    "\n",
    "    count=count+1"
   ]
  },
  {
   "cell_type": "code",
   "execution_count": 25,
   "metadata": {
    "collapsed": false
   },
   "outputs": [
    {
     "data": {
      "text/plain": [
       "1940"
      ]
     },
     "execution_count": 25,
     "metadata": {},
     "output_type": "execute_result"
    }
   ],
   "source": [
    "len(x)"
   ]
  },
  {
   "cell_type": "code",
   "execution_count": 58,
   "metadata": {
    "collapsed": false
   },
   "outputs": [
    {
     "name": "stdout",
     "output_type": "stream",
     "text": [
      "MHR ndcg=0.83868889994\n",
      "SVM ndcg=0.701388057204\n",
      "39\n",
      "39\n"
     ]
    },
    {
     "data": {
      "text/plain": [
       "<matplotlib.text.Text at 0x10b5fcf50>"
      ]
     },
     "execution_count": 58,
     "metadata": {},
     "output_type": "execute_result"
    },
    {
     "data": {
      "image/png": "[encoded data removed]",
      "text/plain": [
       "<matplotlib.figure.Figure at 0x10b6c9c10>"
      ]
     },
     "metadata": {},
     "output_type": "display_data"
    }
   ],
   "source": [
    "import seaborn as sns\n",
    "k=10\n",
    "\n",
    "ndcg_mhr=calc_ndcg(x,'powerWithStar',k) \n",
    "corr_mhr=calc_corr(x,'powerWithStar') \n",
    "print \"MHR ndcg=\"+str(np.mean(ndcg_mhr))\n",
    "\n",
    "ndcg_svm=calc_ndcg(bestSVMPrediction,'svm',k) \n",
    "corr_svm=calc_corr(bestSVMPrediction,'svm') \n",
    "\n",
    "print \"SVM ndcg=\"+str(np.mean(ndcg_svm))\n",
    "\n",
    "print (len(ndcg_svm))\n",
    "print (len(ndcg_mhr))\n",
    "\n",
    "tip={}\n",
    "tip['SVM']=ndcg_svm\n",
    "tip['MHR']=ndcg_mhr\n",
    "df = pd.DataFrame(tip)\n",
    "ax = sns.boxplot(data=df)\n",
    "ax = sns.swarmplot(data=df, color=\".25\")\n",
    "ax.set_title('NDCG@'+str(k))\n",
    "\n",
    "\n"
   ]
  },
  {
   "cell_type": "code",
   "execution_count": 59,
   "metadata": {
    "collapsed": false
   },
   "outputs": [
    {
     "data": {
      "text/plain": [
       "<matplotlib.text.Text at 0x10d517550>"
      ]
     },
     "execution_count": 59,
     "metadata": {},
     "output_type": "execute_result"
    },
    {
     "data": {
      "image/png": "[encoded data removed]",
      "text/plain": [
       "<matplotlib.figure.Figure at 0x10c5fd310>"
      ]
     },
     "metadata": {},
     "output_type": "display_data"
    }
   ],
   "source": [
    "tip={}\n",
    "tip['SVM']=corr_svm\n",
    "tip['MHR']=corr_mhr\n",
    "dftip=pd.DataFrame(tip)\n",
    "#dftip.head()\n",
    "ax = sns.boxplot(data=dftip)\n",
    "ax = sns.swarmplot(data=dftip, color=\".25\")\n",
    "\n",
    "ax.set_title('Correlation')"
   ]
  }
 ],
 "metadata": {
  "kernelspec": {
   "display_name": "Python 2",
   "language": "python",
   "name": "python2"
  },
  "language_info": {
   "codemirror_mode": {
    "name": "ipython",
    "version": 2
   },
   "file_extension": ".py",
   "mimetype": "text/x-python",
   "name": "python",
   "nbconvert_exporter": "python",
   "pygments_lexer": "ipython2",
   "version": "2.7.3"
  }
 },
 "nbformat": 4,
 "nbformat_minor": 0
}
