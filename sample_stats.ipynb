{
 "cells": [
  {
   "cell_type": "code",
   "execution_count": 1,
   "metadata": {
    "collapsed": true
   },
   "outputs": [],
   "source": [
    "import pandas as pd\n",
    "import numpy as np"
   ]
  },
  {
   "cell_type": "code",
   "execution_count": 2,
   "metadata": {
    "collapsed": true
   },
   "outputs": [],
   "source": [
    "eletronicsPD = pd.read_csv('data/eletronic_sample_counts.csv.gz')\n",
    "booksPD = pd.read_csv('data/book_sample.csv.gz')"
   ]
  },
  {
   "cell_type": "code",
   "execution_count": 10,
   "metadata": {
    "collapsed": true
   },
   "outputs": [],
   "source": [
    "def thumbstotal(x): \n",
    "    try:\n",
    "        return int(x['helpful'].replace(\"[\",\"\").replace(\"]\",\"\").split(',')[1]) \n",
    "    except:\n",
    "        return 0\n",
    "    \n",
    "def thumbsup(x): \n",
    "    try:\n",
    "        return int(x['helpful'].replace(\"[\",\"\").replace(\"]\",\"\").split(',')[0]) \n",
    "    except:\n",
    "        return 0\n",
    "    \n",
    "def thumbsdown(x): \n",
    "    try:\n",
    "        return int(x['thumbstotal'] - x['thumbsup']) \n",
    "    except:\n",
    "        return 0\n",
    "\n",
    "def mean_data(df):\n",
    "    mean_stats = []\n",
    "    mean_stats.append(df.thumbstotal.mean())\n",
    "    mean_stats.append(df.thumbsup.mean())\n",
    "    mean_stats.append(df.thumbsdown.mean())\n",
    "    mean_stats.append(df.overall.mean())\n",
    "    mean_stats.append(df.word_count.mean())\n",
    "    mean_stats.append(df.helpfulness.mean())\n",
    "    mean_stats.append(len(df))\n",
    "    return mean_stats\n",
    "\n",
    "def std_data(df):\n",
    "    std_stats = []\n",
    "    std_stats.append(df.thumbstotal.std())\n",
    "    std_stats.append(df.thumbsup.std())\n",
    "    std_stats.append(df.thumbsdown.std())\n",
    "    std_stats.append(df.overall.std())\n",
    "    std_stats.append(df.word_count.std())\n",
    "    std_stats.append(df.helpfulness.std())\n",
    "    std_stats.append(len(df))\n",
    "    return std_stats"
   ]
  },
  {
   "cell_type": "code",
   "execution_count": 9,
   "metadata": {
    "collapsed": false
   },
   "outputs": [],
   "source": [
    "eletronicsPD['thumbstotal'] = eletronicsPD.apply(thumbstotal,axis=1)\n",
    "eletronicsPD['thumbsup'] = eletronicsPD.apply(thumbsup,axis=1)\n",
    "eletronicsPD['thumbsdown'] = eletronicsPD.apply(thumbsdown,axis=1)\n",
    "booksPD['thumbstotal'] = booksPD.apply(thumbstotal,axis=1)\n",
    "booksPD['thumbsup'] = booksPD.apply(thumbsup,axis=1)\n",
    "booksPD['thumbsdown'] = booksPD.apply(thumbsdown,axis=1)"
   ]
  },
  {
   "cell_type": "code",
   "execution_count": 14,
   "metadata": {
    "collapsed": false
   },
   "outputs": [
    {
     "data": {
      "text/html": [
       "<div>\n",
       "<table border=\"1\" class=\"dataframe\">\n",
       "  <thead>\n",
       "    <tr style=\"text-align: right;\">\n",
       "      <th></th>\n",
       "      <th>mean_eletronic</th>\n",
       "      <th>std_eletronic</th>\n",
       "      <th>mean_books</th>\n",
       "      <th>std_books</th>\n",
       "    </tr>\n",
       "  </thead>\n",
       "  <tbody>\n",
       "    <tr>\n",
       "      <th>TOT</th>\n",
       "      <td>48.208494</td>\n",
       "      <td>302.843497</td>\n",
       "      <td>29.719650</td>\n",
       "      <td>73.581288</td>\n",
       "    </tr>\n",
       "    <tr>\n",
       "      <th>UP</th>\n",
       "      <td>40.121533</td>\n",
       "      <td>291.999665</td>\n",
       "      <td>20.605059</td>\n",
       "      <td>64.183856</td>\n",
       "    </tr>\n",
       "    <tr>\n",
       "      <th>DOWN</th>\n",
       "      <td>8.086961</td>\n",
       "      <td>22.279241</td>\n",
       "      <td>9.114591</td>\n",
       "      <td>21.442953</td>\n",
       "    </tr>\n",
       "    <tr>\n",
       "      <th>RAT</th>\n",
       "      <td>3.737852</td>\n",
       "      <td>1.506072</td>\n",
       "      <td>3.417719</td>\n",
       "      <td>1.542001</td>\n",
       "    </tr>\n",
       "    <tr>\n",
       "      <th>DEP</th>\n",
       "      <td>350.325825</td>\n",
       "      <td>402.025489</td>\n",
       "      <td>287.448296</td>\n",
       "      <td>273.753893</td>\n",
       "    </tr>\n",
       "    <tr>\n",
       "      <th>HEL</th>\n",
       "      <td>0.702079</td>\n",
       "      <td>0.285185</td>\n",
       "      <td>0.645796</td>\n",
       "      <td>0.249039</td>\n",
       "    </tr>\n",
       "    <tr>\n",
       "      <th>LEN</th>\n",
       "      <td>19756.000000</td>\n",
       "      <td>19756.000000</td>\n",
       "      <td>24234.000000</td>\n",
       "      <td>24234.000000</td>\n",
       "    </tr>\n",
       "  </tbody>\n",
       "</table>\n",
       "</div>"
      ],
      "text/plain": [
       "      mean_eletronic  std_eletronic    mean_books     std_books\n",
       "TOT        48.208494     302.843497     29.719650     73.581288\n",
       "UP         40.121533     291.999665     20.605059     64.183856\n",
       "DOWN        8.086961      22.279241      9.114591     21.442953\n",
       "RAT         3.737852       1.506072      3.417719      1.542001\n",
       "DEP       350.325825     402.025489    287.448296    273.753893\n",
       "HEL         0.702079       0.285185      0.645796      0.249039\n",
       "LEN     19756.000000   19756.000000  24234.000000  24234.000000"
      ]
     },
     "execution_count": 14,
     "metadata": {},
     "output_type": "execute_result"
    }
   ],
   "source": [
    "columns = ['TOT','UP','DOWN','RAT','DEP','HEL','LEN']\n",
    "\n",
    "# full dataset\n",
    "stats = pd.DataFrame(data={'mean_eletronic': np.array(mean_data(eletronicsPD))}, index=columns)\n",
    "stats['std_eletronic'] = std_data(eletronicsPD)\n",
    "stats['mean_books'] = mean_data(booksPD)\n",
    "stats['std_books'] = std_data(booksPD)\n",
    "stats"
   ]
  },
  {
   "cell_type": "code",
   "execution_count": null,
   "metadata": {
    "collapsed": true
   },
   "outputs": [],
   "source": []
  }
 ],
 "metadata": {
  "kernelspec": {
   "display_name": "Python 2",
   "language": "python",
   "name": "python2"
  },
  "language_info": {
   "codemirror_mode": {
    "name": "ipython",
    "version": 2
   },
   "file_extension": ".py",
   "mimetype": "text/x-python",
   "name": "python",
   "nbconvert_exporter": "python",
   "pygments_lexer": "ipython2",
   "version": "2.7.11"
  }
 },
 "nbformat": 4,
 "nbformat_minor": 1
}
