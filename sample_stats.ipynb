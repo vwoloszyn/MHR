{
 "cells": [
  {
   "cell_type": "code",
   "execution_count": 1,
   "metadata": {
    "collapsed": true
   },
   "outputs": [],
   "source": [
    "import pandas as pd\n",
    "import numpy as np"
   ]
  },
  {
   "cell_type": "code",
   "execution_count": 2,
   "metadata": {
    "collapsed": true
   },
   "outputs": [],
   "source": [
    "eletronicsPD = pd.read_csv('data/eletronic_sample_counts.csv.gz')\n",
    "booksPD = pd.read_csv('data/book_sample.csv.gz')"
   ]
  },
  {
   "cell_type": "code",
   "execution_count": 11,
   "metadata": {
    "collapsed": true
   },
   "outputs": [],
   "source": [
    "def thumbsdown(x): \n",
    "    try:\n",
    "        return int(x['tot']) - int(x['helpful']) \n",
    "    except:\n",
    "        return 0\n",
    "\n",
    "def mean_data(df):\n",
    "    mean_stats = []\n",
    "    mean_stats.append(df.tot.mean())\n",
    "    mean_stats.append(df.helpful.mean())\n",
    "    mean_stats.append(df.thumbsdown.mean())\n",
    "    mean_stats.append(df.overall.mean())\n",
    "    mean_stats.append(df.word_count.mean())\n",
    "    mean_stats.append(df.helpfulness.mean())\n",
    "    mean_stats.append(len(df))\n",
    "    return mean_stats\n",
    "\n",
    "def std_data(df):\n",
    "    std_stats = []\n",
    "    std_stats.append(df.tot.std())\n",
    "    std_stats.append(df.helpful.std())\n",
    "    std_stats.append(df.thumbsdown.std())\n",
    "    std_stats.append(df.overall.std())\n",
    "    std_stats.append(df.word_count.std())\n",
    "    std_stats.append(df.helpfulness.std())\n",
    "    std_stats.append(len(df))\n",
    "    return std_stats"
   ]
  },
  {
   "cell_type": "code",
   "execution_count": 12,
   "metadata": {
    "collapsed": false
   },
   "outputs": [],
   "source": [
    "eletronicsPD['thumbsdown'] = eletronicsPD.apply(thumbsdown,axis=1)\n",
    "booksPD['thumbsdown'] = booksPD.apply(thumbsdown,axis=1)"
   ]
  },
  {
   "cell_type": "code",
   "execution_count": 13,
   "metadata": {
    "collapsed": false
   },
   "outputs": [
    {
     "data": {
      "text/plain": [
       "array(['Unnamed: 0', 'Unnamed: 0.1', 'MHRs', 'Unnamed: 0.1',\n",
       "       'Unnamed: 0.1.1', 'Unnamed: 0.1.1', 'adj', 'asin', 'helpful',\n",
       "       'helpfulness', 'hits', 'noun', 'overall', 'pageRank', 'pos_tag',\n",
       "       'powerWithStar', 'reviewText', 'reviewTime', 'reviewerID',\n",
       "       'reviewerName', 'sentence_count', 'summary', 'tot', 'unigram_count',\n",
       "       'unixReviewTime', 'word_count', 'pr_hs', 'pr_len', 'hs_len',\n",
       "       'pr_hs_len', 'thumbsdown'], dtype=object)"
      ]
     },
     "execution_count": 13,
     "metadata": {},
     "output_type": "execute_result"
    }
   ],
   "source": [
    "columns = ['TOT','UP','DOWN','RAT','DEP','HEL','LEN']\n",
    "\n",
    "# full dataset\n",
    "stats = pd.DataFrame(data={'mean_full': np.array(mean_data(reviews_features))}, index=columns)\n",
    "stats['std_full'] = std_data(reviews_features)"
   ]
  },
  {
   "cell_type": "code",
   "execution_count": null,
   "metadata": {
    "collapsed": true
   },
   "outputs": [],
   "source": []
  }
 ],
 "metadata": {
  "kernelspec": {
   "display_name": "Python 2",
   "language": "python",
   "name": "python2"
  },
  "language_info": {
   "codemirror_mode": {
    "name": "ipython",
    "version": 2
   },
   "file_extension": ".py",
   "mimetype": "text/x-python",
   "name": "python",
   "nbconvert_exporter": "python",
   "pygments_lexer": "ipython2",
   "version": "2.7.12"
  }
 },
 "nbformat": 4,
 "nbformat_minor": 1
}
