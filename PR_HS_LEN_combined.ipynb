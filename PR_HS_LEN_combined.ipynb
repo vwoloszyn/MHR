{
 "cells": [
  {
   "cell_type": "code",
   "execution_count": 1,
   "metadata": {
    "collapsed": false
   },
   "outputs": [
    {
     "name": "stdout",
     "output_type": "stream",
     "text": [
      "loading MHR\n"
     ]
    }
   ],
   "source": [
    "import pandas as pd\n",
    "import numpy as np\n",
    "import NDCG as ndcg\n",
    "import MHR as mhr\n",
    "import sys\n",
    "import types\n",
    "ndcg.reload_package(mhr)\n",
    "from sklearn.svm import SVR, LinearSVR\n",
    "from sklearn.grid_search import GridSearchCV\n",
    "from scipy.stats import spearmanr\n",
    "from sklearn.metrics import make_scorer\n",
    "from time import time\n",
    "%matplotlib inline"
   ]
  },
  {
   "cell_type": "code",
   "execution_count": 2,
   "metadata": {
    "collapsed": true
   },
   "outputs": [],
   "source": [
    "def pr_hs(r): \n",
    "    try:\n",
    "        return ( 1 / r['pageRank'] ) + ( 1 / r['hits'] )\n",
    "    except:\n",
    "        return 0\n",
    "\n",
    "def pr_len(r): \n",
    "    try:\n",
    "        return ( 1 / r['pageRank'] ) + ( 1 / r['word_count'] )\n",
    "    except:\n",
    "        return 0\n",
    "    \n",
    "def hs_len(r): \n",
    "    try:\n",
    "        return ( 1 / r['hits'] ) + ( 1 / r['word_count'] )\n",
    "    except:\n",
    "        return 0\n",
    "\n",
    "def pr_hs_len(r): \n",
    "    try:\n",
    "        return ( 1 / r['pr_hs'] ) + ( 1 / r['hs_len'] )\n",
    "    except:\n",
    "        return 0"
   ]
  },
  {
   "cell_type": "code",
   "execution_count": 3,
   "metadata": {
    "collapsed": false
   },
   "outputs": [
    {
     "data": {
      "text/plain": [
       "(19756, 26)"
      ]
     },
     "execution_count": 3,
     "metadata": {},
     "output_type": "execute_result"
    }
   ],
   "source": [
    "reviews_features = pd.read_csv('data/eletronic_sample_counts.csv.gz')\n",
    "#list_asin = ['B00BGA9WK2','B00A3YN0Z0','B0074BW614','B00CMQTVK0','B0094NY3R0','B0045FM6SU','B00DVFLJDS']\n",
    "#reviews_features = reviews_features[reviews_features.asin.isin(list_asin)]\n",
    "reviews_features.shape"
   ]
  },
  {
   "cell_type": "code",
   "execution_count": 4,
   "metadata": {
    "collapsed": false
   },
   "outputs": [
    {
     "data": {
      "text/plain": [
       "(19756, 30)"
      ]
     },
     "execution_count": 4,
     "metadata": {},
     "output_type": "execute_result"
    }
   ],
   "source": [
    "reviews_features['pr_hs']=reviews_features.apply(pr_hs,axis=1)\n",
    "reviews_features['pr_len']=reviews_features.apply(pr_len,axis=1)\n",
    "reviews_features['hs_len']=reviews_features.apply(hs_len,axis=1)\n",
    "reviews_features['pr_hs_len']=reviews_features.apply(pr_hs_len,axis=1)\n",
    "reviews_features.shape"
   ]
  },
  {
   "cell_type": "code",
   "execution_count": 5,
   "metadata": {
    "collapsed": false
   },
   "outputs": [
    {
     "name": "stderr",
     "output_type": "stream",
     "text": [
      "/usr/local/lib/python2.7/site-packages/IPython/html.py:14: ShimWarning: The `IPython.html` package has been deprecated. You should import from `notebook` instead. `IPython.html.widgets` has moved to `ipywidgets`.\n",
      "  \"`IPython.html.widgets` has moved to `ipywidgets`.\", ShimWarning)\n"
     ]
    },
    {
     "name": "stdout",
     "output_type": "stream",
     "text": [
      "pr_hs ndcg=0.475004895786\n",
      "pr_len ndcg=0.472343549565\n",
      "hs_len ndcg=0.476295599033\n",
      "pr_hs_len ndcg=0.871843766276\n",
      "PageRank ndcg=0.87155497918\n",
      "HITs ndcg=0.871770213457\n",
      "MHR ndcg=0.834078127094\n",
      "MHRs ndcg=0.866295029108\n",
      "383\n",
      "383\n",
      "383\n",
      "383\n",
      "383\n",
      "383\n",
      "383\n",
      "383\n"
     ]
    },
    {
     "data": {
      "text/plain": [
       "<matplotlib.text.Text at 0x11350e050>"
      ]
     },
     "execution_count": 5,
     "metadata": {},
     "output_type": "execute_result"
    },
    {
     "data": {
      "image/png": "[encoded data removed]",
      "text/plain": [
       "<matplotlib.figure.Figure at 0x1129ffd90>"
      ]
     },
     "metadata": {},
     "output_type": "display_data"
    }
   ],
   "source": [
    "import seaborn as sns\n",
    "k=5\n",
    "\n",
    "ndcg_pr_hs=ndcg.calc_ndcg(reviews_features,'pr_hs',k) \n",
    "corr_pr_hs=ndcg.calc_corr(reviews_features,'pr_hs') \n",
    "print \"pr_hs ndcg=\"+str(np.mean(ndcg_pr_hs))\n",
    "\n",
    "ndcg_pr_len=ndcg.calc_ndcg(reviews_features,'pr_len',k) \n",
    "corr_pr_len=ndcg.calc_corr(reviews_features,'pr_len') \n",
    "print \"pr_len ndcg=\"+str(np.mean(ndcg_pr_len))\n",
    "\n",
    "ndcg_hs_len=ndcg.calc_ndcg(reviews_features,'hs_len',k) \n",
    "corr_hs_len=ndcg.calc_corr(reviews_features,'hs_len') \n",
    "print \"hs_len ndcg=\"+str(np.mean(ndcg_hs_len))\n",
    "\n",
    "ndcg_pr_hs_len=ndcg.calc_ndcg(reviews_features,'pr_hs_len',k) \n",
    "corr_pr_hs_len=ndcg.calc_corr(reviews_features,'pr_hs_len') \n",
    "print \"pr_hs_len ndcg=\"+str(np.mean(ndcg_pr_hs_len))\n",
    "\n",
    "ndcg_pr=ndcg.calc_ndcg(reviews_features,'pageRank',k) \n",
    "corr_pr=ndcg.calc_corr(reviews_features,'pageRank') \n",
    "print \"PageRank ndcg=\"+str(np.mean(ndcg_pr))\n",
    "\n",
    "ndcg_hs=ndcg.calc_ndcg(reviews_features,'hits',k) \n",
    "corr_hs=ndcg.calc_corr(reviews_features,'hits') \n",
    "print \"HITs ndcg=\"+str(np.mean(ndcg_hs))\n",
    "\n",
    "ndcg_mhr=ndcg.calc_ndcg(reviews_features,'powerWithStar',k) \n",
    "corr_mhr=ndcg.calc_corr(reviews_features,'powerWithStar') \n",
    "print \"MHR ndcg=\"+str(np.mean(ndcg_mhr))\n",
    "\n",
    "ndcg_mhrs=ndcg.calc_ndcg(reviews_features,'MHRs',k) \n",
    "corr_mhrs=ndcg.calc_corr(reviews_features,'MHRs') \n",
    "print \"MHRs ndcg=\"+str(np.mean(ndcg_mhrs))\n",
    "\n",
    "print (len(ndcg_pr_hs))\n",
    "print (len(ndcg_pr_len))\n",
    "print (len(ndcg_hs_len))\n",
    "print (len(ndcg_pr_hs_len))\n",
    "print (len(ndcg_hs))\n",
    "print (len(ndcg_pr))\n",
    "print (len(ndcg_mhr))\n",
    "print (len(ndcg_mhrs))\n",
    "\n",
    "tip={}\n",
    "tip['PR_HS']=ndcg_pr_hs\n",
    "tip['PR_LEN']=ndcg_pr_len\n",
    "tip['HS_LEN']=ndcg_hs_len\n",
    "tip['PR_HS_LEN']=ndcg_pr_hs_len\n",
    "tip['HS']=ndcg_hs\n",
    "tip['PR']=ndcg_pr\n",
    "tip['MHR']=ndcg_mhr\n",
    "tip['MHRs']=ndcg_mhrs\n",
    "df = pd.DataFrame(tip)\n",
    "ax = sns.boxplot(data=df)\n",
    "#ax = sns.swarmplot(data=df, color=\".25\")\n",
    "ax.set_title('NDCG@'+str(k))"
   ]
  },
  {
   "cell_type": "code",
   "execution_count": null,
   "metadata": {
    "collapsed": true
   },
   "outputs": [],
   "source": []
  }
 ],
 "metadata": {
  "kernelspec": {
   "display_name": "Python 2",
   "language": "python",
   "name": "python2"
  },
  "language_info": {
   "codemirror_mode": {
    "name": "ipython",
    "version": 2
   },
   "file_extension": ".py",
   "mimetype": "text/x-python",
   "name": "python",
   "nbconvert_exporter": "python",
   "pygments_lexer": "ipython2",
   "version": "2.7.11"
  }
 },
 "nbformat": 4,
 "nbformat_minor": 1
}
