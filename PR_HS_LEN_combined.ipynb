{
 "cells": [
  {
   "cell_type": "code",
   "execution_count": 1,
   "metadata": {
    "collapsed": false
   },
   "outputs": [
    {
     "name": "stdout",
     "output_type": "stream",
     "text": [
      "loading MHR\n"
     ]
    }
   ],
   "source": [
    "import pandas as pd\n",
    "import numpy as np\n",
    "import NDCG as ndcg\n",
    "import MHR as mhr\n",
    "import sys\n",
    "import types\n",
    "ndcg.reload_package(mhr)\n",
    "from sklearn.svm import SVR, LinearSVR\n",
    "from sklearn.grid_search import GridSearchCV\n",
    "from scipy.stats import spearmanr\n",
    "from sklearn.metrics import make_scorer\n",
    "from time import time\n",
    "%matplotlib inline"
   ]
  },
  {
   "cell_type": "code",
   "execution_count": 2,
   "metadata": {
    "collapsed": true
   },
   "outputs": [],
   "source": [
    "def pr_hs(r): \n",
    "    try:\n",
    "        return ( 1 / r['pageRank'] ) + ( 1 / r['hits'] )\n",
    "    except:\n",
    "        return 0\n",
    "\n",
    "def pr_len(r): \n",
    "    try:\n",
    "        return ( 1 / r['pageRank'] ) + ( 1 / r['word_count'] )\n",
    "    except:\n",
    "        return 0\n",
    "    \n",
    "def hs_len(r): \n",
    "    try:\n",
    "        return ( 1 / r['hits'] ) + ( 1 / r['word_count'] )\n",
    "    except:\n",
    "        return 0\n",
    "\n",
    "def pr_hs_len(r): \n",
    "    try:\n",
    "        return ( 1 / r['pr_hs'] ) + ( 1 / r['hs_len'] )\n",
    "    except:\n",
    "        return 0"
   ]
  },
  {
   "cell_type": "code",
   "execution_count": 3,
   "metadata": {
    "collapsed": false
   },
   "outputs": [
    {
     "data": {
      "text/plain": [
       "(19756, 32)"
      ]
     },
     "execution_count": 3,
     "metadata": {},
     "output_type": "execute_result"
    }
   ],
   "source": [
    "reviews_features = pd.read_csv('data/eletronic_sample_counts.csv.gz')\n",
    "#list_asin = ['B00BGA9WK2','B00A3YN0Z0','B0074BW614','B00CMQTVK0','B0094NY3R0','B0045FM6SU','B00DVFLJDS']\n",
    "#reviews_features = reviews_features[reviews_features.asin.isin(list_asin)]\n",
    "reviews_features.shape"
   ]
  },
  {
   "cell_type": "code",
   "execution_count": 4,
   "metadata": {
    "collapsed": false
   },
   "outputs": [
    {
     "data": {
      "text/plain": [
       "(19756, 32)"
      ]
     },
     "execution_count": 4,
     "metadata": {},
     "output_type": "execute_result"
    }
   ],
   "source": [
    "reviews_features['pr_hs']=reviews_features.apply(pr_hs,axis=1)\n",
    "reviews_features['pr_len']=reviews_features.apply(pr_len,axis=1)\n",
    "reviews_features['hs_len']=reviews_features.apply(hs_len,axis=1)\n",
    "reviews_features['pr_hs_len']=reviews_features.apply(pr_hs_len,axis=1)\n",
    "#reviews_features.to_csv('data/eletronic_sample_counts.csv.gz', compression='gzip')\n",
    "reviews_features.shape"
   ]
  },
  {
   "cell_type": "code",
   "execution_count": 11,
   "metadata": {
    "collapsed": false
   },
   "outputs": [
    {
     "name": "stdout",
     "output_type": "stream",
     "text": [
      "pr_hs ndcg=0.475004895786\n",
      "pr_len ndcg=0.472343549565\n",
      "hs_len ndcg=0.476295599033\n",
      "pr_hs_len ndcg=0.871843766276\n",
      "PageRank ndcg=0.87155497918\n",
      "HITs ndcg=0.871770213457\n",
      "MHR ndcg=0.884546497758\n",
      "MHRs ndcg=0.866295029108\n",
      "RevRank ndcg=0.721330608699\n",
      "383\n",
      "383\n",
      "383\n",
      "383\n",
      "383\n",
      "383\n",
      "383\n",
      "383\n",
      "383\n"
     ]
    },
    {
     "data": {
      "text/plain": [
       "<matplotlib.text.Text at 0xa71d74ac>"
      ]
     },
     "execution_count": 11,
     "metadata": {},
     "output_type": "execute_result"
    },
    {
     "data": {
      "image/png": "[encoded data removed]",
      "text/plain": [
       "<matplotlib.figure.Figure at 0xa746a16c>"
      ]
     },
     "metadata": {},
     "output_type": "display_data"
    }
   ],
   "source": [
    "import seaborn as sns\n",
    "k=5\n",
    "\n",
    "ndcg_pr_hs=ndcg.calc_ndcg(reviews_features,'pr_hs',k) \n",
    "corr_pr_hs=ndcg.calc_corr(reviews_features,'pr_hs') \n",
    "print \"pr_hs ndcg=\"+str(np.mean(ndcg_pr_hs))\n",
    "\n",
    "ndcg_pr_len=ndcg.calc_ndcg(reviews_features,'pr_len',k) \n",
    "corr_pr_len=ndcg.calc_corr(reviews_features,'pr_len') \n",
    "print \"pr_len ndcg=\"+str(np.mean(ndcg_pr_len))\n",
    "\n",
    "ndcg_hs_len=ndcg.calc_ndcg(reviews_features,'hs_len',k) \n",
    "corr_hs_len=ndcg.calc_corr(reviews_features,'hs_len') \n",
    "print \"hs_len ndcg=\"+str(np.mean(ndcg_hs_len))\n",
    "\n",
    "ndcg_pr_hs_len=ndcg.calc_ndcg(reviews_features,'pr_hs_len',k) \n",
    "corr_pr_hs_len=ndcg.calc_corr(reviews_features,'pr_hs_len') \n",
    "print \"pr_hs_len ndcg=\"+str(np.mean(ndcg_pr_hs_len))\n",
    "\n",
    "ndcg_pr=ndcg.calc_ndcg(reviews_features,'pageRank',k) \n",
    "corr_pr=ndcg.calc_corr(reviews_features,'pageRank') \n",
    "print \"PageRank ndcg=\"+str(np.mean(ndcg_pr))\n",
    "\n",
    "ndcg_hs=ndcg.calc_ndcg(reviews_features,'hits',k) \n",
    "corr_hs=ndcg.calc_corr(reviews_features,'hits') \n",
    "print \"HITs ndcg=\"+str(np.mean(ndcg_hs))\n",
    "\n",
    "ndcg_mhr=ndcg.calc_ndcg(reviews_features,'powerWithStar',k) \n",
    "corr_mhr=ndcg.calc_corr(reviews_features,'powerWithStar') \n",
    "print \"MHR ndcg=\"+str(np.mean(ndcg_mhr))\n",
    "\n",
    "ndcg_mhrs=ndcg.calc_ndcg(reviews_features,'MHRs',k) \n",
    "corr_mhrs=ndcg.calc_corr(reviews_features,'MHRs') \n",
    "print \"MHRs ndcg=\"+str(np.mean(ndcg_mhrs))\n",
    "\n",
    "ndcg_revRank=ndcg.calc_ndcg(reviews_features,'revRank',k) \n",
    "corr_revRank=ndcg.calc_corr(reviews_features,'revRank') \n",
    "print \"RevRank ndcg=\"+str(np.mean(ndcg_revRank))\n",
    "\n",
    "print (len(ndcg_pr_hs))\n",
    "print (len(ndcg_pr_len))\n",
    "print (len(ndcg_hs_len))\n",
    "print (len(ndcg_pr_hs_len))\n",
    "print (len(ndcg_hs))\n",
    "print (len(ndcg_pr))\n",
    "print (len(ndcg_mhr))\n",
    "print (len(ndcg_mhrs))\n",
    "print (len(ndcg_revRank))\n",
    "\n",
    "tip={}\n",
    "tip['PR_HS']=ndcg_pr_hs\n",
    "tip['PR_LEN']=ndcg_pr_len\n",
    "tip['HS_LEN']=ndcg_hs_len\n",
    "tip['PR_HS_LEN']=ndcg_pr_hs_len\n",
    "tip['HS']=ndcg_hs\n",
    "tip['PR']=ndcg_pr\n",
    "tip['MHR']=ndcg_mhr\n",
    "tip['MHRs']=ndcg_mhrs\n",
    "tip['REVRANK']=ndcg_revRank\n",
    "df = pd.DataFrame(tip)\n",
    "ax = sns.boxplot(data=df)\n",
    "#ax = sns.swarmplot(data=df, color=\".25\")\n",
    "ax.set_title('NDCG@'+str(k))"
   ]
  },
  {
   "cell_type": "code",
   "execution_count": 10,
   "metadata": {
    "collapsed": false
   },
   "outputs": [
    {
     "data": {
      "text/plain": [
       "[None,\n",
       " None,\n",
       " None,\n",
       " None,\n",
       " None,\n",
       " None,\n",
       " None,\n",
       " None,\n",
       " None,\n",
       " None,\n",
       " None,\n",
       " None,\n",
       " None,\n",
       " None,\n",
       " None,\n",
       " None,\n",
       " None,\n",
       " None,\n",
       " None,\n",
       " None]"
      ]
     },
     "execution_count": 10,
     "metadata": {},
     "output_type": "execute_result"
    },
    {
     "data": {
      "image/png": "[encoded data removed]",
      "text/plain": [
       "<matplotlib.figure.Figure at 0xaabcf4ac>"
      ]
     },
     "metadata": {},
     "output_type": "display_data"
    }
   ],
   "source": [
    "#import matplotlib as mpl\n",
    "#mpl.rcParams.update(mpl.rcParamsDefault)\n",
    "import matplotlib.pyplot as plt \n",
    "%matplotlib inline\n",
    "data_to_plot = [ndcg_revRank, ndcg_hs, ndcg_pr, ndcg_pr_hs_len, ndcg_mhr]\n",
    "\n",
    "\n",
    "bp = plt.boxplot(data_to_plot, labels=[\"REVRANK\",\"HS\",\"PR\",\"PR_HS_LEN\",\"MHR\"], sym='')\n",
    "plt.setp(bp['boxes'], linewidth=1, color='black')\n",
    "plt.setp(bp['fliers'], linewidth=1, color='black')\n",
    "plt.setp(bp['medians'], linewidth=1, color='black')\n",
    "plt.setp(bp['whiskers'], linewidth=1, color='black')\n"
   ]
  },
  {
   "cell_type": "code",
   "execution_count": 7,
   "metadata": {
    "collapsed": false
   },
   "outputs": [
    {
     "name": "stdout",
     "output_type": "stream",
     "text": [
      "pr_hs_len ndcg 1=0.874340791932\n",
      "pr_hs_len ndcg 3=0.873254288365\n",
      "pr_hs_len ndcg 5=0.871843766276\n"
     ]
    }
   ],
   "source": [
    "ndcg_pr_hs_len=ndcg.calc_ndcg(reviews_features,'pr_hs_len',1) \n",
    "print \"pr_hs_len ndcg 1=\"+str(np.mean(ndcg_pr_hs_len))\n",
    "ndcg_pr_hs_len=ndcg.calc_ndcg(reviews_features,'pr_hs_len',3) \n",
    "print \"pr_hs_len ndcg 3=\"+str(np.mean(ndcg_pr_hs_len))\n",
    "ndcg_pr_hs_len=ndcg.calc_ndcg(reviews_features,'pr_hs_len',5) \n",
    "print \"pr_hs_len ndcg 5=\"+str(np.mean(ndcg_pr_hs_len))"
   ]
  },
  {
   "cell_type": "code",
   "execution_count": 8,
   "metadata": {
    "collapsed": false
   },
   "outputs": [
    {
     "name": "stdout",
     "output_type": "stream",
     "text": [
      "revRank ndcg 1=0.679038166775\n",
      "revRank ndcg 3=0.720105074104\n",
      "revRank ndcg 5=0.721330608699\n"
     ]
    }
   ],
   "source": [
    "ndcg_pr_hs_len=ndcg.calc_ndcg(reviews_features,'revRank',1) \n",
    "print \"revRank ndcg 1=\"+str(np.mean(ndcg_pr_hs_len))\n",
    "ndcg_pr_hs_len=ndcg.calc_ndcg(reviews_features,'revRank',3) \n",
    "print \"revRank ndcg 3=\"+str(np.mean(ndcg_pr_hs_len))\n",
    "ndcg_pr_hs_len=ndcg.calc_ndcg(reviews_features,'revRank',5) \n",
    "print \"revRank ndcg 5=\"+str(np.mean(ndcg_pr_hs_len))"
   ]
  },
  {
   "cell_type": "code",
   "execution_count": null,
   "metadata": {
    "collapsed": true
   },
   "outputs": [],
   "source": []
  }
 ],
 "metadata": {
  "kernelspec": {
   "display_name": "Python 2",
   "language": "python",
   "name": "python2"
  },
  "language_info": {
   "codemirror_mode": {
    "name": "ipython",
    "version": 2
   },
   "file_extension": ".py",
   "mimetype": "text/x-python",
   "name": "python",
   "nbconvert_exporter": "python",
   "pygments_lexer": "ipython2",
   "version": "2.7.12"
  }
 },
 "nbformat": 4,
 "nbformat_minor": 1
}
