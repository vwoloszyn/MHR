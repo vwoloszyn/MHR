{
 "cells": [
  {
   "cell_type": "code",
   "execution_count": 37,
   "metadata": {
    "collapsed": false
   },
   "outputs": [
    {
     "name": "stdout",
     "output_type": "stream",
     "text": [
      "loading MHR\n"
     ]
    }
   ],
   "source": [
    "import pandas as pd\n",
    "import numpy as np\n",
    "import NDCG as ndcg\n",
    "import MHR as mhr\n",
    "import sys\n",
    "import types\n",
    "ndcg.reload_package(mhr)\n",
    "from sklearn.svm import SVR, LinearSVR\n",
    "from sklearn.grid_search import GridSearchCV\n",
    "from scipy.stats import spearmanr\n",
    "from sklearn.metrics import make_scorer\n",
    "from time import time\n",
    "%matplotlib inline"
   ]
  },
  {
   "cell_type": "code",
   "execution_count": 14,
   "metadata": {
    "collapsed": false
   },
   "outputs": [
    {
     "data": {
      "text/html": [
       "<div>\n",
       "<table border=\"1\" class=\"dataframe\">\n",
       "  <thead>\n",
       "    <tr style=\"text-align: right;\">\n",
       "      <th></th>\n",
       "      <th>count</th>\n",
       "      <th>mean</th>\n",
       "    </tr>\n",
       "    <tr>\n",
       "      <th>asin</th>\n",
       "      <th></th>\n",
       "      <th></th>\n",
       "    </tr>\n",
       "  </thead>\n",
       "  <tbody>\n",
       "    <tr>\n",
       "      <th>B00BGA9WK2</th>\n",
       "      <td>351</td>\n",
       "      <td>253.079772</td>\n",
       "    </tr>\n",
       "    <tr>\n",
       "      <th>B00A3YN0Z0</th>\n",
       "      <td>219</td>\n",
       "      <td>104.237443</td>\n",
       "    </tr>\n",
       "    <tr>\n",
       "      <th>B0074BW614</th>\n",
       "      <td>201</td>\n",
       "      <td>451.900498</td>\n",
       "    </tr>\n",
       "    <tr>\n",
       "      <th>B00CMQTVK0</th>\n",
       "      <td>165</td>\n",
       "      <td>334.696970</td>\n",
       "    </tr>\n",
       "    <tr>\n",
       "      <th>B0094NY3R0</th>\n",
       "      <td>147</td>\n",
       "      <td>232.972789</td>\n",
       "    </tr>\n",
       "    <tr>\n",
       "      <th>B0045FM6SU</th>\n",
       "      <td>140</td>\n",
       "      <td>374.121429</td>\n",
       "    </tr>\n",
       "    <tr>\n",
       "      <th>B00DVFLJDS</th>\n",
       "      <td>139</td>\n",
       "      <td>352.625899</td>\n",
       "    </tr>\n",
       "    <tr>\n",
       "      <th>B009LL9VDG</th>\n",
       "      <td>133</td>\n",
       "      <td>424.443609</td>\n",
       "    </tr>\n",
       "    <tr>\n",
       "      <th>B002C7481G</th>\n",
       "      <td>132</td>\n",
       "      <td>501.636364</td>\n",
       "    </tr>\n",
       "    <tr>\n",
       "      <th>B00BGGDVOO</th>\n",
       "      <td>131</td>\n",
       "      <td>310.809160</td>\n",
       "    </tr>\n",
       "  </tbody>\n",
       "</table>\n",
       "</div>"
      ],
      "text/plain": [
       "            count        mean\n",
       "asin                         \n",
       "B00BGA9WK2    351  253.079772\n",
       "B00A3YN0Z0    219  104.237443\n",
       "B0074BW614    201  451.900498\n",
       "B00CMQTVK0    165  334.696970\n",
       "B0094NY3R0    147  232.972789\n",
       "B0045FM6SU    140  374.121429\n",
       "B00DVFLJDS    139  352.625899\n",
       "B009LL9VDG    133  424.443609\n",
       "B002C7481G    132  501.636364\n",
       "B00BGGDVOO    131  310.809160"
      ]
     },
     "execution_count": 14,
     "metadata": {},
     "output_type": "execute_result"
    }
   ],
   "source": [
    "reviews_features = pd.read_csv('data/eletronic_sample_counts.csv.gz')\n",
    "df_agg = reviews_features[['word_count','asin']].groupby(['asin']).agg(['count','mean'])\n",
    "df_agg['word_count'].sort_values('count',ascending=False).head(10)"
   ]
  },
  {
   "cell_type": "code",
   "execution_count": 138,
   "metadata": {
    "collapsed": false
   },
   "outputs": [
    {
     "data": {
      "text/html": [
       "<div>\n",
       "<table border=\"1\" class=\"dataframe\">\n",
       "  <thead>\n",
       "    <tr style=\"text-align: right;\">\n",
       "      <th></th>\n",
       "      <th>Unnamed: 0</th>\n",
       "      <th>alpha</th>\n",
       "      <th>beta</th>\n",
       "      <th>ndcg_mean</th>\n",
       "    </tr>\n",
       "  </thead>\n",
       "  <tbody>\n",
       "    <tr>\n",
       "      <th>0</th>\n",
       "      <td>0</td>\n",
       "      <td>0.900000</td>\n",
       "      <td>-0.120000</td>\n",
       "      <td>0.939195</td>\n",
       "    </tr>\n",
       "    <tr>\n",
       "      <th>1</th>\n",
       "      <td>1</td>\n",
       "      <td>0.900000</td>\n",
       "      <td>-0.120000</td>\n",
       "      <td>0.939195</td>\n",
       "    </tr>\n",
       "    <tr>\n",
       "      <th>2</th>\n",
       "      <td>2</td>\n",
       "      <td>0.900000</td>\n",
       "      <td>-0.120000</td>\n",
       "      <td>0.939195</td>\n",
       "    </tr>\n",
       "    <tr>\n",
       "      <th>3</th>\n",
       "      <td>3</td>\n",
       "      <td>1.184605</td>\n",
       "      <td>-0.120000</td>\n",
       "      <td>0.832707</td>\n",
       "    </tr>\n",
       "    <tr>\n",
       "      <th>4</th>\n",
       "      <td>4</td>\n",
       "      <td>0.900000</td>\n",
       "      <td>-0.082053</td>\n",
       "      <td>0.914038</td>\n",
       "    </tr>\n",
       "  </tbody>\n",
       "</table>\n",
       "</div>"
      ],
      "text/plain": [
       "   Unnamed: 0     alpha      beta  ndcg_mean\n",
       "0           0  0.900000 -0.120000   0.939195\n",
       "1           1  0.900000 -0.120000   0.939195\n",
       "2           2  0.900000 -0.120000   0.939195\n",
       "3           3  1.184605 -0.120000   0.832707\n",
       "4           4  0.900000 -0.082053   0.914038"
      ]
     },
     "execution_count": 138,
     "metadata": {},
     "output_type": "execute_result"
    }
   ],
   "source": [
    "data = pd.read_csv(\"data/parameters_estimation.csv\")\n",
    "data.head()"
   ]
  },
  {
   "cell_type": "code",
   "execution_count": null,
   "metadata": {
    "collapsed": true
   },
   "outputs": [],
   "source": []
  },
  {
   "cell_type": "code",
   "execution_count": 139,
   "metadata": {
    "collapsed": false
   },
   "outputs": [
    {
     "data": {
      "image/png": "[encoded data removed]",
      "text/plain": [
       "<matplotlib.figure.Figure at 0x112f2ec90>"
      ]
     },
     "metadata": {},
     "output_type": "display_data"
    }
   ],
   "source": [
    "data = pd.read_csv(\"data/parameters_estimation.csv\")\n",
    "\n",
    "from mpl_toolkits.mplot3d import Axes3D\n",
    "from matplotlib import cm\n",
    "from matplotlib.ticker import LinearLocator, FormatStrFormatter\n",
    "import matplotlib.pyplot as plt\n",
    "import numpy as np\n",
    "\n",
    "fig = plt.figure()\n",
    "ax = fig.gca(projection='3d')\n",
    "\n",
    "X = data['alpha'].values\n",
    "Y = data['beta'].values\n",
    "X, Y = np.meshgrid(X, Y)\n",
    "R = np.sqrt(X**2 + Y**2)\n",
    "#Z = np.sin(data['ndcg_mean'].values)\n",
    "Z = data['ndcg_mean'].values\n",
    "surf = ax.plot_surface(X, Y, Z, rstride=1, cstride=1, cmap=cm.coolwarm,\n",
    "                       linewidth=0, antialiased=False)\n",
    "#ax.set_zlim(-1.01, 1.01)\n",
    "\n",
    "ax.zaxis.set_major_locator(LinearLocator(10))\n",
    "ax.zaxis.set_major_formatter(FormatStrFormatter('%.02f'))\n",
    "\n",
    "fig.colorbar(surf, shrink=0.5, aspect=5)\n",
    "\n",
    "plt.show()\n",
    "\n"
   ]
  },
  {
   "cell_type": "code",
   "execution_count": 141,
   "metadata": {
    "collapsed": false
   },
   "outputs": [
    {
     "data": {
      "image/png": "[encoded data removed]",
      "text/plain": [
       "<matplotlib.figure.Figure at 0x112c7ddd0>"
      ]
     },
     "metadata": {},
     "output_type": "display_data"
    }
   ],
   "source": [
    "data = pd.read_csv(\"data/parameters_estimation.csv\")\n",
    "\n",
    "from matplotlib import pyplot as PLT\n",
    "from matplotlib import cm as CM\n",
    "from matplotlib import mlab as ML\n",
    "import numpy as NP\n",
    "\n",
    "x = data['alpha'].values\n",
    "y = data['beta'].values\n",
    "\n",
    "z = data['ndcg_mean'].values\n",
    "\n",
    "\n",
    "gridsize=30\n",
    "PLT.subplot(111)\n",
    "\n",
    "# if 'bins=None', then color of each hexagon corresponds directly to its count\n",
    "# 'C' is optional--it maps values to x-y coordinates; if 'C' is None (default) then \n",
    "# the result is a pure 2D histogram \n",
    "\n",
    "PLT.hexbin(x, y, C=z, gridsize=gridsize, cmap=CM.jet, bins=None)\n",
    "PLT.axis([x.min(), x.max(), y.min(), y.max()])\n",
    "\n",
    "cb = PLT.colorbar()\n",
    "cb.set_label('mean value')\n",
    "PLT.show()   "
   ]
  },
  {
   "cell_type": "code",
   "execution_count": null,
   "metadata": {
    "collapsed": true
   },
   "outputs": [],
   "source": []
  }
 ],
 "metadata": {
  "kernelspec": {
   "display_name": "Python 2",
   "language": "python",
   "name": "python2"
  },
  "language_info": {
   "codemirror_mode": {
    "name": "ipython",
    "version": 2
   },
   "file_extension": ".py",
   "mimetype": "text/x-python",
   "name": "python",
   "nbconvert_exporter": "python",
   "pygments_lexer": "ipython2",
   "version": "2.7.3"
  }
 },
 "nbformat": 4,
 "nbformat_minor": 0
}
