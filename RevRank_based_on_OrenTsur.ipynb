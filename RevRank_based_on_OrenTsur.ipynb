{
 "cells": [
  {
   "cell_type": "markdown",
   "metadata": {},
   "source": [
    "## REVRANK: A Fully Unsupervised Algorithm for Selecting the Most Helpful Book Reviews\n",
    "### by Oren Tsur and Ari Rappoport"
   ]
  },
  {
   "cell_type": "code",
   "execution_count": 12,
   "metadata": {
    "collapsed": false
   },
   "outputs": [],
   "source": [
    "import nltk\n",
    "import math\n",
    "import time\n",
    "import itertools\n",
    "import operator\n",
    "import pandas as pd\n",
    "from nltk.corpus import brown, stopwords\n",
    "AllReviews = pd.read_csv('data/eletronic_sample_counts.csv.gz')\n",
    "min_comments=30\n",
    "min_votes=5"
   ]
  },
  {
   "cell_type": "markdown",
   "metadata": {},
   "source": [
    "### build Virtual Core Review"
   ]
  },
  {
   "cell_type": "code",
   "execution_count": 5,
   "metadata": {
    "collapsed": true
   },
   "outputs": [],
   "source": [
    "def virtual_core(reviewsDf, external_freq, c, m):\n",
    "    \n",
    "    texts = [nltk.word_tokenize(text) for text in reviewsDf.reviewText]\n",
    "    tokens = list(itertools.chain(*texts))\n",
    "    reviews_freq = nltk.FreqDist(tokens)\n",
    "\n",
    "    dominance = dict([])\n",
    "    \n",
    "    for word in dict(reviews_freq):\n",
    "        if external_freq[word] > 0 and math.log(external_freq[word],2) > 0 and (word.lower() not in stopwords.words('english')) and (len(word) > 2):\n",
    "            dominance[word] = reviews_freq[word] * c * ( 1 / math.log(external_freq[word],2) )\n",
    "    \n",
    "    \n",
    "    return sorted(dominance.items(), key=operator.itemgetter(1), reverse=True)[:m]"
   ]
  },
  {
   "cell_type": "code",
   "execution_count": 6,
   "metadata": {
    "collapsed": false
   },
   "outputs": [],
   "source": [
    "brown_freq = nltk.FreqDist(brown.words(categories=\"news\"))\n",
    "grouped = AllReviews[AllReviews['tot'].astype(int)>min_votes].groupby('asin')\n",
    "\n",
    "# evaluate virtual core function\n",
    "for name, group in grouped:\n",
    "    \n",
    "    ProductReview = AllReviews[AllReviews['asin']==name]    \n",
    "    review_core = virtual_core(ProductReview, brown_freq, 3, 200)\n",
    "    \n",
    "    break"
   ]
  },
  {
   "cell_type": "markdown",
   "metadata": {},
   "source": [
    "### build Review Score"
   ]
  },
  {
   "cell_type": "code",
   "execution_count": 7,
   "metadata": {
    "collapsed": false
   },
   "outputs": [],
   "source": [
    "def review_score(text, core, mean):\n",
    "    core_dict = dict(core)\n",
    "    review_vector = nltk.FreqDist(nltk.word_tokenize(text))\n",
    "    length = len(nltk.word_tokenize(text))\n",
    "    score = 0\n",
    "\n",
    "    for word in review_vector:\n",
    "        if word in core_dict:\n",
    "            score += review_vector[word]\n",
    "\n",
    "    p = 1\n",
    "    if length < mean:\n",
    "        p = 20\n",
    "            \n",
    "    return (float(1) / p) * (float(score) / length)"
   ]
  },
  {
   "cell_type": "code",
   "execution_count": 8,
   "metadata": {
    "collapsed": false
   },
   "outputs": [
    {
     "data": {
      "text/plain": [
       "0.005445544554455446"
      ]
     },
     "execution_count": 8,
     "metadata": {},
     "output_type": "execute_result"
    }
   ],
   "source": [
    "# evaluate review_score function\n",
    "mean = ProductReview.word_count.mean()\n",
    "review_s = review_score(ProductReview.reviewText[0], review_core, mean)\n",
    "review_s"
   ]
  },
  {
   "cell_type": "markdown",
   "metadata": {},
   "source": [
    "### run RevRank for all instances"
   ]
  },
  {
   "cell_type": "code",
   "execution_count": 13,
   "metadata": {
    "collapsed": false
   },
   "outputs": [
    {
     "name": "stderr",
     "output_type": "stream",
     "text": [
      "/home/henrique/.local/lib/python2.7/site-packages/ipykernel/__main__.py:13: SettingWithCopyWarning: \n",
      "A value is trying to be set on a copy of a slice from a DataFrame.\n",
      "Try using .loc[row_indexer,col_indexer] = value instead\n",
      "\n",
      "See the caveats in the documentation: http://pandas.pydata.org/pandas-docs/stable/indexing.html#indexing-view-versus-copy\n"
     ]
    },
    {
     "name": "stdout",
     "output_type": "stream",
     "text": [
      "Run 1 size 40 for 383\n"
     ]
    }
   ],
   "source": [
    "def zeroFun(x): return 0\n",
    "\n",
    "total = len(grouped)\n",
    "run = 1\n",
    "performance=[]\n",
    "\n",
    "for name, group in grouped:\n",
    "    \n",
    "    ProductReview = AllReviews[AllReviews['asin']==name] \n",
    "    \n",
    "    if ( len(ProductReview)>min_comments ):\n",
    "    \n",
    "        ProductReview['revRank'] = ProductReview.apply(zeroFun,axis=1)\n",
    "\n",
    "        start = time.time()\n",
    "        \n",
    "        review_core = virtual_core(ProductReview, brown_freq, 3, 200)\n",
    "        mean = ProductReview.word_count.mean()\n",
    "\n",
    "        for t in ProductReview.T.to_dict().values():\n",
    "            review_s = review_score(t['reviewText'], review_core, mean)\n",
    "            AllReviews.loc[t.values()[0],'revRank'] = review_s\n",
    "\n",
    "        end = time.time()\n",
    "        elapsed = (end - start)\n",
    "            \n",
    "        tempo={}\n",
    "        tempo['product']=name\n",
    "        tempo['tot_product']= len(ProductReview)\n",
    "        tempo['time']=elapsed\n",
    "        performance.append(tempo)\n",
    "            \n",
    "        print(\"Run %d size %d for %d\" % (run, len(ProductReview), total))\n",
    "            \n",
    "        break\n",
    "\n",
    "pd.DataFrame(performance).to_csv('data/performance_revRank.csv.gz', compression='gzip')"
   ]
  },
  {
   "cell_type": "code",
   "execution_count": 10,
   "metadata": {
    "collapsed": false
   },
   "outputs": [],
   "source": [
    "#AllReviews.to_csv('data/eletronic_sample_counts.csv.gz', compression='gzip')"
   ]
  }
 ],
 "metadata": {
  "kernelspec": {
   "display_name": "Python 2",
   "language": "python",
   "name": "python2"
  },
  "language_info": {
   "codemirror_mode": {
    "name": "ipython",
    "version": 2
   },
   "file_extension": ".py",
   "mimetype": "text/x-python",
   "name": "python",
   "nbconvert_exporter": "python",
   "pygments_lexer": "ipython2",
   "version": "2.7.12"
  }
 },
 "nbformat": 4,
 "nbformat_minor": 1
}
